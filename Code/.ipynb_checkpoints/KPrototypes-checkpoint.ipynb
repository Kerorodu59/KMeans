{
 "cells": [
  {
   "cell_type": "code",
   "execution_count": 9,
   "id": "a198ffb7",
   "metadata": {},
   "outputs": [],
   "source": [
    "import numbers\n",
    "from sklearn.preprocessing import minmax_scale\n",
    "from numpy.random import *\n",
    "from random import *\n",
    "import numpy as np\n",
    "import pandas as pd\n",
    "from math import *\n",
    "from Code.Metriques import *\n",
    "from Code.Outils import *\n",
    "from kmodes.kprototypes import KPrototypes\n",
    "from statistics import *"
   ]
  },
  {
   "cell_type": "markdown",
   "id": "3cce58d4",
   "metadata": {},
   "source": [
    "## Extraction des données"
   ]
  },
  {
   "cell_type": "code",
   "execution_count": 2,
   "id": "590c7b65",
   "metadata": {},
   "outputs": [],
   "source": [
    "Df = pd.read_csv(\"Code/Données/bank.csv\",sep=\";\")"
   ]
  },
  {
   "cell_type": "markdown",
   "id": "59239ad0",
   "metadata": {},
   "source": [
    "Rand Index correspond à la proportion des paires d'éléments qui sont conjointement groupées ou conjointement séparées.\n",
    "Aide : https://fr.wikipedia.org/wiki/Indice_de_Rand#:~:text=L'indice%20de%20Rand%20est,'accord)%20entre%20deux%20partitions."
   ]
  },
  {
   "cell_type": "markdown",
   "id": "0f3f9e88",
   "metadata": {},
   "source": [
    "## Fonction KPrototypes"
   ]
  },
  {
   "cell_type": "code",
   "execution_count": 3,
   "id": "d6738b52",
   "metadata": {},
   "outputs": [],
   "source": [
    "def KPrototype(K,data,max_iter,gamma):\n",
    "    \"\"\"\n",
    "    Renvoie les centres, les clusters et les labels des K clusters de data\n",
    "    \"\"\"\n",
    "    # Tri des clés ayant des valeurs catégoriques et numériques\n",
    "    number_keys = []\n",
    "    categorical_keys = []\n",
    "    \n",
    "    for k in data :\n",
    "        if isinstance(data.iloc[0][k],numbers.Real) :\n",
    "            number_keys.append(k)\n",
    "        else:\n",
    "            categorical_keys.append(k)\n",
    "    \n",
    "    # Préparation des 2 ensembles de données\n",
    "    categorical = data[categorical_keys]\n",
    "    numerical = pd.DataFrame(minmax_scale(np.array(list(list(data[k]) for k in number_keys))).T,columns=number_keys)\n",
    "    \n",
    "    dataset = pd.concat([numerical,categorical],axis=1)\n",
    "    centers = dataset.iloc[sample(range(0,data.shape[0]),K)] \n",
    "    \n",
    "    i = 0\n",
    "    not_centers_same = True\n",
    "    \n",
    "    while (i!=max_iter and not_centers_same):\n",
    "        label = []\n",
    "        i+=1\n",
    "        \n",
    "        # Remise à zéro des clusters\n",
    "        cluster = dict((i,pd.DataFrame(columns=(number_keys+categorical_keys))) for i in range(K))\n",
    "        \n",
    "        for d in range(data.shape[0]):\n",
    "            value_clusters = []\n",
    "            for i in range(K):\n",
    "                distance = np.linalg.norm(np.array(numerical.iloc[d])-np.array(centers.iloc[i][number_keys]))+gamma*dissimilarity(centers.iloc[i][categorical_keys],categorical.iloc[d])\n",
    "                value_clusters.append((distance,i))\n",
    "            \n",
    "            minimum_center = min(value_clusters)\n",
    "            cluster[minimum_center[1]].loc[len(cluster[minimum_center[1]])] = dataset.iloc[d]\n",
    "            label.append(minimum_center[1])\n",
    "          \n",
    "        \n",
    "        # Recalcule les centres\n",
    "        new_centers= [new_centroid_KProt(cluster[i],number_keys,categorical_keys) for i in range(K)]\n",
    "        new_centers = pd.concat(new_centers,axis=0)\n",
    "        \n",
    "        if (np.array_equal(new_centers,centers)): \n",
    "            not_centers_same = False\n",
    "        else:\n",
    "            centers=new_centers\n",
    "        \n",
    "    return (new_centers,cluster,label) "
   ]
  },
  {
   "cell_type": "markdown",
   "id": "8172f03e",
   "metadata": {},
   "source": [
    "## Utilisation"
   ]
  },
  {
   "cell_type": "markdown",
   "id": "e6ff126c",
   "metadata": {},
   "source": [
    "### Bank Data"
   ]
  },
  {
   "cell_type": "code",
   "execution_count": 4,
   "id": "898fb15c",
   "metadata": {},
   "outputs": [],
   "source": [
    "Df = pd.read_csv(\"Code/Données/bank.csv\",sep=\";\")"
   ]
  },
  {
   "cell_type": "code",
   "execution_count": 7,
   "id": "3a06c981",
   "metadata": {},
   "outputs": [
    {
     "data": {
      "text/html": [
       "<div>\n",
       "<style scoped>\n",
       "    .dataframe tbody tr th:only-of-type {\n",
       "        vertical-align: middle;\n",
       "    }\n",
       "\n",
       "    .dataframe tbody tr th {\n",
       "        vertical-align: top;\n",
       "    }\n",
       "\n",
       "    .dataframe thead th {\n",
       "        text-align: right;\n",
       "    }\n",
       "</style>\n",
       "<table border=\"1\" class=\"dataframe\">\n",
       "  <thead>\n",
       "    <tr style=\"text-align: right;\">\n",
       "      <th></th>\n",
       "      <th>age</th>\n",
       "      <th>job</th>\n",
       "      <th>marital</th>\n",
       "      <th>education</th>\n",
       "      <th>default</th>\n",
       "      <th>balance</th>\n",
       "      <th>housing</th>\n",
       "      <th>loan</th>\n",
       "      <th>contact</th>\n",
       "      <th>day</th>\n",
       "      <th>month</th>\n",
       "      <th>duration</th>\n",
       "      <th>campaign</th>\n",
       "      <th>pdays</th>\n",
       "      <th>previous</th>\n",
       "      <th>poutcome</th>\n",
       "      <th>y</th>\n",
       "    </tr>\n",
       "  </thead>\n",
       "  <tbody>\n",
       "    <tr>\n",
       "      <th>0</th>\n",
       "      <td>30</td>\n",
       "      <td>unemployed</td>\n",
       "      <td>married</td>\n",
       "      <td>primary</td>\n",
       "      <td>no</td>\n",
       "      <td>1787</td>\n",
       "      <td>no</td>\n",
       "      <td>no</td>\n",
       "      <td>cellular</td>\n",
       "      <td>19</td>\n",
       "      <td>oct</td>\n",
       "      <td>79</td>\n",
       "      <td>1</td>\n",
       "      <td>-1</td>\n",
       "      <td>0</td>\n",
       "      <td>unknown</td>\n",
       "      <td>no</td>\n",
       "    </tr>\n",
       "    <tr>\n",
       "      <th>1</th>\n",
       "      <td>33</td>\n",
       "      <td>services</td>\n",
       "      <td>married</td>\n",
       "      <td>secondary</td>\n",
       "      <td>no</td>\n",
       "      <td>4789</td>\n",
       "      <td>yes</td>\n",
       "      <td>yes</td>\n",
       "      <td>cellular</td>\n",
       "      <td>11</td>\n",
       "      <td>may</td>\n",
       "      <td>220</td>\n",
       "      <td>1</td>\n",
       "      <td>339</td>\n",
       "      <td>4</td>\n",
       "      <td>failure</td>\n",
       "      <td>no</td>\n",
       "    </tr>\n",
       "    <tr>\n",
       "      <th>2</th>\n",
       "      <td>35</td>\n",
       "      <td>management</td>\n",
       "      <td>single</td>\n",
       "      <td>tertiary</td>\n",
       "      <td>no</td>\n",
       "      <td>1350</td>\n",
       "      <td>yes</td>\n",
       "      <td>no</td>\n",
       "      <td>cellular</td>\n",
       "      <td>16</td>\n",
       "      <td>apr</td>\n",
       "      <td>185</td>\n",
       "      <td>1</td>\n",
       "      <td>330</td>\n",
       "      <td>1</td>\n",
       "      <td>failure</td>\n",
       "      <td>no</td>\n",
       "    </tr>\n",
       "    <tr>\n",
       "      <th>3</th>\n",
       "      <td>30</td>\n",
       "      <td>management</td>\n",
       "      <td>married</td>\n",
       "      <td>tertiary</td>\n",
       "      <td>no</td>\n",
       "      <td>1476</td>\n",
       "      <td>yes</td>\n",
       "      <td>yes</td>\n",
       "      <td>unknown</td>\n",
       "      <td>3</td>\n",
       "      <td>jun</td>\n",
       "      <td>199</td>\n",
       "      <td>4</td>\n",
       "      <td>-1</td>\n",
       "      <td>0</td>\n",
       "      <td>unknown</td>\n",
       "      <td>no</td>\n",
       "    </tr>\n",
       "    <tr>\n",
       "      <th>4</th>\n",
       "      <td>59</td>\n",
       "      <td>blue-collar</td>\n",
       "      <td>married</td>\n",
       "      <td>secondary</td>\n",
       "      <td>no</td>\n",
       "      <td>0</td>\n",
       "      <td>yes</td>\n",
       "      <td>no</td>\n",
       "      <td>unknown</td>\n",
       "      <td>5</td>\n",
       "      <td>may</td>\n",
       "      <td>226</td>\n",
       "      <td>1</td>\n",
       "      <td>-1</td>\n",
       "      <td>0</td>\n",
       "      <td>unknown</td>\n",
       "      <td>no</td>\n",
       "    </tr>\n",
       "  </tbody>\n",
       "</table>\n",
       "</div>"
      ],
      "text/plain": [
       "   age          job  marital  education default  balance housing loan  \\\n",
       "0   30   unemployed  married    primary      no     1787      no   no   \n",
       "1   33     services  married  secondary      no     4789     yes  yes   \n",
       "2   35   management   single   tertiary      no     1350     yes   no   \n",
       "3   30   management  married   tertiary      no     1476     yes  yes   \n",
       "4   59  blue-collar  married  secondary      no        0     yes   no   \n",
       "\n",
       "    contact  day month  duration  campaign  pdays  previous poutcome   y  \n",
       "0  cellular   19   oct        79         1     -1         0  unknown  no  \n",
       "1  cellular   11   may       220         1    339         4  failure  no  \n",
       "2  cellular   16   apr       185         1    330         1  failure  no  \n",
       "3   unknown    3   jun       199         4     -1         0  unknown  no  \n",
       "4   unknown    5   may       226         1     -1         0  unknown  no  "
      ]
     },
     "execution_count": 7,
     "metadata": {},
     "output_type": "execute_result"
    }
   ],
   "source": [
    "Df.head()"
   ]
  },
  {
   "cell_type": "code",
   "execution_count": 6,
   "id": "9c6f64c4",
   "metadata": {},
   "outputs": [],
   "source": [
    "cat = []\n",
    "i = 0\n",
    "for k in Df:\n",
    "    if not(isinstance(Df[k].iloc[0],numbers.Real)):\n",
    "        cat.append(i)\n",
    "    i+=1"
   ]
  },
  {
   "cell_type": "code",
   "execution_count": 7,
   "id": "580c5b2a",
   "metadata": {},
   "outputs": [
    {
     "name": "stdout",
     "output_type": "stream",
     "text": [
      "1\n",
      "2\n",
      "3\n",
      "4\n"
     ]
    }
   ],
   "source": [
    "rd = []\n",
    "acc = []\n",
    "for exp in range(1,5):\n",
    "    print(exp)\n",
    "    km = KPrototypes(n_clusters=exp,n_init=10,gamma=1)\n",
    "    clusters = km.fit_predict(Df,categorical=cat)\n",
    "    _,_,label= KPrototype(exp,Df,10,1)\n",
    "    acc.append(Accuracy(km.labels_,label))\n",
    "    rd.append(rand_index(km.labels_,label))"
   ]
  },
  {
   "cell_type": "code",
   "execution_count": 10,
   "id": "910aaeec",
   "metadata": {},
   "outputs": [
    {
     "ename": "NameError",
     "evalue": "name 'mean' is not defined",
     "output_type": "error",
     "traceback": [
      "\u001b[1;31m---------------------------------------------------------------------------\u001b[0m",
      "\u001b[1;31mNameError\u001b[0m                                 Traceback (most recent call last)",
      "\u001b[1;32m~\\AppData\\Local\\Temp\\ipykernel_19700\\4193589238.py\u001b[0m in \u001b[0;36m<module>\u001b[1;34m\u001b[0m\n\u001b[1;32m----> 1\u001b[1;33m \u001b[0mmean\u001b[0m\u001b[1;33m(\u001b[0m\u001b[0macc\u001b[0m\u001b[1;33m)\u001b[0m\u001b[1;33m,\u001b[0m\u001b[0mpstdev\u001b[0m\u001b[1;33m(\u001b[0m\u001b[0macc\u001b[0m\u001b[1;33m)\u001b[0m\u001b[1;33m\u001b[0m\u001b[1;33m\u001b[0m\u001b[0m\n\u001b[0m",
      "\u001b[1;31mNameError\u001b[0m: name 'mean' is not defined"
     ]
    }
   ],
   "source": [
    "mean(acc),pstdev(acc)"
   ]
  },
  {
   "cell_type": "code",
   "execution_count": null,
   "id": "510b7b77",
   "metadata": {},
   "outputs": [],
   "source": [
    "mean(rd),pstdev(rd)"
   ]
  },
  {
   "cell_type": "markdown",
   "id": "c881b55f",
   "metadata": {},
   "source": [
    "### Vote"
   ]
  },
  {
   "cell_type": "code",
   "execution_count": null,
   "id": "8fde60a6",
   "metadata": {},
   "outputs": [],
   "source": [
    "Df = pd.read_csv(\"Code/Données/house-votes-84.csv\",sep=\";\")"
   ]
  },
  {
   "cell_type": "code",
   "execution_count": null,
   "id": "1396fae7",
   "metadata": {},
   "outputs": [],
   "source": [
    "rd = []\n",
    "acc = []\n",
    "for exp in range(1,4):\n",
    "    print(exp)\n",
    "    km = KPrototypes(n_clusters=exp,n_init=10,gamma=1)\n",
    "    clusters = km.fit_predict(Df,categorical=cat)\n",
    "    _,_,label= KPrototype(exp,Df,10,1)\n",
    "    acc.append(Accuracy(km.labels_,label))\n",
    "    rd.append(rand_index(km.labels_,label))"
   ]
  },
  {
   "cell_type": "code",
   "execution_count": null,
   "id": "8b621eda",
   "metadata": {},
   "outputs": [],
   "source": [
    "mean(acc),pstdev(acc)"
   ]
  },
  {
   "cell_type": "code",
   "execution_count": null,
   "id": "8c0f2e6b",
   "metadata": {},
   "outputs": [],
   "source": [
    "mean(rd),pstdev(rd)"
   ]
  },
  {
   "cell_type": "markdown",
   "id": "e1e01864",
   "metadata": {},
   "source": [
    "### Credit Approval"
   ]
  },
  {
   "cell_type": "code",
   "execution_count": null,
   "id": "5283fa7e",
   "metadata": {},
   "outputs": [],
   "source": [
    "Df = pd.read_csv(\"Code/Données/credit-approval.csv\",sep=\";\")"
   ]
  },
  {
   "cell_type": "code",
   "execution_count": null,
   "id": "1060a456",
   "metadata": {},
   "outputs": [],
   "source": [
    "rd = []\n",
    "acc = []\n",
    "for exp in range(1,4):\n",
    "    print(exp)\n",
    "    km = KPrototypes(n_clusters=exp,n_init=10,gamma=1)\n",
    "    clusters = km.fit_predict(Df,categorical=cat)\n",
    "    _,_,label= KPrototype(exp,Df,10,1)\n",
    "    acc.append(Accuracy(km.labels_,label))\n",
    "    rd.append(rand_index(km.labels_,label))"
   ]
  },
  {
   "cell_type": "code",
   "execution_count": null,
   "id": "40d560e7",
   "metadata": {},
   "outputs": [],
   "source": [
    "mean(rd),pstdev(rd)"
   ]
  },
  {
   "cell_type": "code",
   "execution_count": null,
   "id": "ca7a52a5",
   "metadata": {},
   "outputs": [],
   "source": [
    "mean(acc),pstdev(acc)"
   ]
  },
  {
   "cell_type": "markdown",
   "id": "a2aa72a6",
   "metadata": {},
   "source": [
    "** Remarque: quand les données ne sont pas normalisé, les clusters ne sont pas équilibré, il y a tout dans un même cluster **\n",
    "- Revoir: choix des points aléatoire au début"
   ]
  },
  {
   "cell_type": "markdown",
   "id": "d1c35bb8",
   "metadata": {},
   "source": [
    "Lien pour vérifier AdjustedRandIndex https://scikit-learn.org/stable/modules/generated/sklearn.metrics.adjusted_rand_score.html"
   ]
  },
  {
   "cell_type": "markdown",
   "id": "2b155358",
   "metadata": {},
   "source": [
    "Lien avec lequel je m'aide:\n",
    "https://en.wikipedia.org/wiki/Rand_index"
   ]
  }
 ],
 "metadata": {
  "kernelspec": {
   "display_name": "Python 3 (ipykernel)",
   "language": "python",
   "name": "python3"
  },
  "language_info": {
   "codemirror_mode": {
    "name": "ipython",
    "version": 3
   },
   "file_extension": ".py",
   "mimetype": "text/x-python",
   "name": "python",
   "nbconvert_exporter": "python",
   "pygments_lexer": "ipython3",
   "version": "3.9.13"
  }
 },
 "nbformat": 4,
 "nbformat_minor": 5
}
