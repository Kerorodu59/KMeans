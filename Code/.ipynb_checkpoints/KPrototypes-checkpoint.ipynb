{
 "cells": [
  {
   "cell_type": "code",
   "execution_count": 22,
   "id": "a198ffb7",
   "metadata": {},
   "outputs": [],
   "source": [
    "import numbers\n",
    "from sklearn.preprocessing import minmax_scale\n",
    "from numpy.random import randint\n",
    "import numpy as np\n",
    "import pandas as pd\n",
    "from math import *"
   ]
  },
  {
   "cell_type": "code",
   "execution_count": 2,
   "id": "590c7b65",
   "metadata": {},
   "outputs": [],
   "source": [
    "Df = pd.read_csv(\"Données/bank.csv\",sep=\";\")"
   ]
  },
  {
   "cell_type": "code",
   "execution_count": 3,
   "id": "a643fc35",
   "metadata": {},
   "outputs": [
    {
     "data": {
      "text/plain": [
       "array(['30', '33', '35', ..., '57', '28', '44'], dtype='<U13')"
      ]
     },
     "execution_count": 3,
     "metadata": {},
     "output_type": "execute_result"
    }
   ],
   "source": [
    "np.array(list(list(Df[i]) for i in Df))[0,:]"
   ]
  },
  {
   "cell_type": "code",
   "execution_count": 4,
   "id": "bec96d45",
   "metadata": {},
   "outputs": [
    {
     "data": {
      "text/plain": [
       "0    30\n",
       "1    33\n",
       "4    59\n",
       "Name: age, dtype: int64"
      ]
     },
     "execution_count": 4,
     "metadata": {},
     "output_type": "execute_result"
    }
   ],
   "source": [
    "Df.iloc[[0,1,4]]['age']"
   ]
  },
  {
   "cell_type": "code",
   "execution_count": 5,
   "id": "a25d5a1f",
   "metadata": {},
   "outputs": [
    {
     "data": {
      "text/plain": [
       "True"
      ]
     },
     "execution_count": 5,
     "metadata": {},
     "output_type": "execute_result"
    }
   ],
   "source": [
    "isinstance(6.8,numbers.Real)"
   ]
  },
  {
   "cell_type": "code",
   "execution_count": 6,
   "id": "72dd763e",
   "metadata": {},
   "outputs": [
    {
     "data": {
      "text/plain": [
       "array([0, 1, 0])"
      ]
     },
     "execution_count": 6,
     "metadata": {},
     "output_type": "execute_result"
    }
   ],
   "source": [
    "np.array([[0,2,0],[2,1,1]]).min(axis=0)"
   ]
  },
  {
   "cell_type": "code",
   "execution_count": 7,
   "id": "ff449759",
   "metadata": {},
   "outputs": [],
   "source": [
    "liste=[1,0]\n",
    "del(liste[0])"
   ]
  },
  {
   "cell_type": "code",
   "execution_count": 8,
   "id": "d2caef33",
   "metadata": {},
   "outputs": [
    {
     "data": {
      "text/plain": [
       "[0]"
      ]
     },
     "execution_count": 8,
     "metadata": {},
     "output_type": "execute_result"
    }
   ],
   "source": [
    "liste"
   ]
  },
  {
   "cell_type": "code",
   "execution_count": 19,
   "id": "91fd929c",
   "metadata": {},
   "outputs": [],
   "source": [
    "def rand_index(labelTrue,labelPredicted):\n",
    "    \"\"\"\n",
    "    Calcule le taux de représentativité de labelPredicted par rapport à labelTrue\n",
    "    Plus la valeur est proche de 1 et plus les labels sont bien prédits\n",
    "    \"\"\"\n",
    "    cluster = list(set(labelTrue))\n",
    "    clusterTrue = [set() for i in range(len(cluster))]\n",
    "    clusterPredicted = [set() for i in range(len(cluster))]\n",
    "    \n",
    "    for i in range(len(labelTrue)):\n",
    "        clusterTrue[cluster.index(labelTrue[i])].add(i)\n",
    "        clusterPredicted[cluster.index(labelPredicted[i])].add(i)\n",
    "        \n",
    "    rand_index = 0\n",
    "    for i in clusterPredicted:\n",
    "        max_similitude = 0\n",
    "        index = 0\n",
    "        for j in range(len(clusterTrue)):\n",
    "            similitude = len(i.intersection(clusterTrue[j]))\n",
    "            if max_similitude < similitude:\n",
    "                max_similitude = similitude\n",
    "                index = j\n",
    "        rand_index+=max_similitude\n",
    "        del(clusterTrue[index])\n",
    "    \n",
    "    return rand_index/len(labelTrue)"
   ]
  },
  {
   "cell_type": "code",
   "execution_count": 20,
   "id": "d59c720c",
   "metadata": {},
   "outputs": [
    {
     "data": {
      "text/plain": [
       "1.0"
      ]
     },
     "execution_count": 20,
     "metadata": {},
     "output_type": "execute_result"
    }
   ],
   "source": [
    "rand_index([0,0,0,1,1,1],[1,1,1,0,0,0])"
   ]
  },
  {
   "cell_type": "code",
   "execution_count": 10,
   "id": "93638ac5",
   "metadata": {},
   "outputs": [],
   "source": [
    "def dissimilarity(pointA,pointB):\n",
    "    \"\"\"\n",
    "    Renvoie l'indice de dissimilarité \n",
    "    Plus il est élevé et plus la distance entre les deux points est grande\n",
    "    \"\"\"\n",
    "    \n",
    "    res = sum([1 for k in pointA.index if pointA[k] != pointB[k]])\n",
    "    \n",
    "    return res"
   ]
  },
  {
   "cell_type": "code",
   "execution_count": 11,
   "id": "85f76db6",
   "metadata": {},
   "outputs": [],
   "source": [
    "def new_centroid(cluster,numerical_keys,categorical_keys):\n",
    "    \"\"\"\n",
    "    Renvoie le centre d'un cluster catégorical\n",
    "    \"\"\"\n",
    "    # Calcul des coordonnées numériques du nouveau centre du cluster\n",
    "    centroid = [cluster[k].mean() for k in numerical_keys]\n",
    "     \n",
    "    # Calcul des coordonnées catégoriques du nouveau centre du cluster    \n",
    "    for k in categorical_keys :\n",
    "        values = dict((i,cluster[cluster[k]==i].shape[0]) for i in set(cluster[k])) \n",
    "        # On prend la valeur qui apparait le plus souvent comme centre\n",
    "        centroid.append(max(values,key=values.get))\n",
    "        \n",
    "    serie = pd.DataFrame(data=[centroid],columns=numerical_keys+categorical_keys)\n",
    "        \n",
    "    return serie"
   ]
  },
  {
   "cell_type": "code",
   "execution_count": 12,
   "id": "d6738b52",
   "metadata": {},
   "outputs": [],
   "source": [
    "def KPrototype(K,data,max_iter,gamma):\n",
    "    \"\"\"\n",
    "    \n",
    "    \"\"\"\n",
    "    # Tri des clés ayant des valeurs catégoriques et numériques\n",
    "    number_keys = []\n",
    "    categorical_keys = []\n",
    "    \n",
    "    for k in data :\n",
    "        if isinstance(data.iloc[0][k],numbers.Real) :\n",
    "            number_keys.append(k)\n",
    "        else:\n",
    "            categorical_keys.append(k)\n",
    "    \n",
    "    # Préparation des 2 ensembles de données\n",
    "    categorical = data[categorical_keys]\n",
    "    numerical = pd.DataFrame(minmax_scale(np.array(list(list(data[k]) for k in number_keys))).T,columns=number_keys)\n",
    "    \n",
    "    dataset = pd.concat([numerical,categorical],axis=1)\n",
    "    centers = dataset.iloc[randint(0,data.shape[0],K)] \n",
    "    \n",
    "    i = 0\n",
    "    not_centers_same = True\n",
    "    \n",
    "    while (i!=max_iter and not_centers_same):\n",
    "        label = []\n",
    "        i+=1\n",
    "        \n",
    "        # Remise à zéro des clusters\n",
    "        cluster = dict((i,pd.DataFrame(columns=(number_keys+categorical_keys))) for i in range(K))\n",
    "        \n",
    "        for d in range(data.shape[0]):\n",
    "            value_clusters = []\n",
    "            for i in range(K):\n",
    "                distance = np.linalg.norm(np.array(numerical.iloc[d])-np.array(centers.iloc[i][number_keys]))+gamma*dissimilarity(centers.iloc[i][categorical_keys],categorical.iloc[d])\n",
    "                value_clusters.append((distance,i))\n",
    "            \n",
    "            minimum_center = min(value_clusters)\n",
    "            cluster[minimum_center[1]].loc[len(cluster[minimum_center[1]])] = dataset.iloc[d]\n",
    "            label.append(minimum_center[1])\n",
    "          \n",
    "        \n",
    "        # Recalcule les centres\n",
    "        new_centers= [new_centroid(cluster[i],number_keys,categorical_keys) for i in range(K)]\n",
    "        new_centers = pd.concat(new_centers,axis=0)\n",
    "        \n",
    "        if (np.array_equal(new_centers,centers)): \n",
    "            not_centers_same = False\n",
    "        else:\n",
    "            centers=new_centers\n",
    "        \n",
    "    return (new_centers,cluster,label) "
   ]
  },
  {
   "cell_type": "markdown",
   "id": "a2aa72a6",
   "metadata": {},
   "source": [
    "** Remarque: quand les données ne sont pas normalisé, les clusters ne sont pas équilibré, il y a tout dans un même cluster **\n",
    "- Revoir: choix des points aléatoire au début"
   ]
  },
  {
   "cell_type": "code",
   "execution_count": 13,
   "id": "fb3e37b6",
   "metadata": {
    "scrolled": false
   },
   "outputs": [],
   "source": [
    "ncenters,cluster,label = KPrototype(2,Df,1000,1)"
   ]
  },
  {
   "cell_type": "markdown",
   "id": "8e90ce71",
   "metadata": {},
   "source": [
    "La différence entre RandIndex et Accurracy est que les clusters avec RandIndex peuvent être dans le désordre ce qui n'est pas le cas avec Accuracy"
   ]
  },
  {
   "cell_type": "code",
   "execution_count": 14,
   "id": "e44c12cf",
   "metadata": {},
   "outputs": [],
   "source": [
    "def Accuracy(predictedLabel,trueLabel):\n",
    "    \"\"\"\n",
    "    Calcul le taux de labels étant vrais\n",
    "    \"\"\"\n",
    "    return sum([1 for i in range(len(predictedLabel)) if predictedLabel[i]==trueLabel[i]])/len(predictedLabel)"
   ]
  },
  {
   "cell_type": "markdown",
   "id": "d1c35bb8",
   "metadata": {},
   "source": [
    "Lien pour vérifier AdjustedRandIndex https://scikit-learn.org/stable/modules/generated/sklearn.metrics.adjusted_rand_score.html"
   ]
  },
  {
   "cell_type": "code",
   "execution_count": 16,
   "id": "14be858d",
   "metadata": {},
   "outputs": [],
   "source": [
    "tableau = np.zeros((2,4))"
   ]
  },
  {
   "cell_type": "code",
   "execution_count": 17,
   "id": "b816b29d",
   "metadata": {},
   "outputs": [],
   "source": [
    "tableau[0,1] = 1 #ligne,colonne"
   ]
  },
  {
   "cell_type": "code",
   "execution_count": 21,
   "id": "4b602b3a",
   "metadata": {},
   "outputs": [
    {
     "data": {
      "text/plain": [
       "array([0., 1., 0., 0.])"
      ]
     },
     "execution_count": 21,
     "metadata": {},
     "output_type": "execute_result"
    }
   ],
   "source": [
    "tableau.sum(axis=0)"
   ]
  },
  {
   "cell_type": "code",
   "execution_count": 28,
   "id": "ac9b35e9",
   "metadata": {},
   "outputs": [
    {
     "name": "stdout",
     "output_type": "stream",
     "text": [
      "0.0\n",
      "1.0\n",
      "0.0\n",
      "0.0\n",
      "0.0\n",
      "0.0\n",
      "0.0\n",
      "0.0\n"
     ]
    }
   ],
   "source": [
    "for i in tableau:\n",
    "    for j in i:\n",
    "        print(j)"
   ]
  },
  {
   "cell_type": "markdown",
   "id": "3f9c43ca",
   "metadata": {},
   "source": [
    "Lien avec lequel je m'aide:\n",
    "https://en.wikipedia.org/wiki/Rand_index"
   ]
  },
  {
   "cell_type": "code",
   "execution_count": 41,
   "id": "ba3f09a1",
   "metadata": {},
   "outputs": [],
   "source": [
    "def Adjusted_Rand_Index(labelPredicted,labelTrue):\n",
    "    #Initialisation de la \"contingency table\"\n",
    "    clusterPredicted, clusterTrue = list(set(labelPredicted)),list(set(labelTrue))\n",
    "    X = np.zeros((len(clusterTrue),len(clusterPredicted)))\n",
    "    \n",
    "    # Remplissage du tableau de contingeance\n",
    "    for i in range(len(labelPredicted)):\n",
    "        t=clusterTrue.index(labelTrue[i])\n",
    "        p=clusterPredicted.index(labelPredicted[i])\n",
    "        X[t,p] += 1\n",
    "    \n",
    "    X = X.astype(int)\n",
    "    A = X.sum(axis=1)\n",
    "    B = X.sum(axis=0)        \n",
    "    \n",
    "    sommeB = sum([comb(n,2) for n in B])\n",
    "    E = (sum([comb(n,2)*sommeB for n in A])/comb(len(labelTrue),2))\n",
    "    RI = sum([comb(n,2) for ligne in X for n in ligne])\n",
    "    max_RI = 0.5 * (sum([comb(n,2) for n in A])+sommeB)\n",
    "    \n",
    "    return (RI-E)/(max_RI-E)"
   ]
  },
  {
   "cell_type": "code",
   "execution_count": 42,
   "id": "67fd4ec7",
   "metadata": {},
   "outputs": [
    {
     "data": {
      "text/plain": [
       "1.0"
      ]
     },
     "execution_count": 42,
     "metadata": {},
     "output_type": "execute_result"
    }
   ],
   "source": [
    "Adjusted_Rand_Index([0,0,0,1,1,1],[1,1,1,0,0,0])"
   ]
  },
  {
   "cell_type": "code",
   "execution_count": null,
   "id": "38a0a10c",
   "metadata": {},
   "outputs": [],
   "source": []
  },
  {
   "cell_type": "code",
   "execution_count": null,
   "id": "a1a4dfc2",
   "metadata": {},
   "outputs": [],
   "source": []
  }
 ],
 "metadata": {
  "kernelspec": {
   "display_name": "Python 3 (ipykernel)",
   "language": "python",
   "name": "python3"
  },
  "language_info": {
   "codemirror_mode": {
    "name": "ipython",
    "version": 3
   },
   "file_extension": ".py",
   "mimetype": "text/x-python",
   "name": "python",
   "nbconvert_exporter": "python",
   "pygments_lexer": "ipython3",
   "version": "3.9.13"
  }
 },
 "nbformat": 4,
 "nbformat_minor": 5
}
