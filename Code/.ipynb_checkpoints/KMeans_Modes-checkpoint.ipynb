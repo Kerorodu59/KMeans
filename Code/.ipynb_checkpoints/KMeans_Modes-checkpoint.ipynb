{
 "cells": [
  {
   "cell_type": "markdown",
   "id": "42c489ea",
   "metadata": {},
   "source": [
    "##### Liens utiles:\n",
    "https://scikit-learn.org/stable/modules/generated/sklearn.decomposition.PCA.html\n",
    "https://scikit-learn.org/stable/modules/generated/sklearn.cluster.KMeans.html\n",
    "https://medium.com/swlh/k-means-clustering-on-high-dimensional-data-d2151e1a4240"
   ]
  },
  {
   "cell_type": "markdown",
   "id": "779349ee",
   "metadata": {},
   "source": [
    "## Extraction des données"
   ]
  },
  {
   "cell_type": "code",
   "execution_count": 113,
   "id": "7cf49fac",
   "metadata": {},
   "outputs": [],
   "source": [
    "from sklearn import datasets\n",
    "iris = datasets.load_iris()"
   ]
  },
  {
   "cell_type": "markdown",
   "id": "39ce03a7",
   "metadata": {},
   "source": [
    "https://en.wikipedia.org/wiki/Iris_flower_data_set"
   ]
  },
  {
   "cell_type": "code",
   "execution_count": 114,
   "id": "8b76733c",
   "metadata": {},
   "outputs": [],
   "source": [
    "#iris.target_names --- 0 = setosa, 1=versicolor, 2= viriginica\n",
    "#iris.feature_names --- sepal length, width, petal length, i=width"
   ]
  },
  {
   "cell_type": "code",
   "execution_count": 115,
   "id": "a5301d3b",
   "metadata": {},
   "outputs": [],
   "source": [
    "X = iris[\"data\"]"
   ]
  },
  {
   "cell_type": "markdown",
   "id": "3dde5fd4",
   "metadata": {},
   "source": [
    "## Application du k-means"
   ]
  },
  {
   "cell_type": "code",
   "execution_count": 116,
   "id": "d8da5172",
   "metadata": {},
   "outputs": [],
   "source": [
    "import numpy as np\n",
    "from sklearn.cluster import KMeans\n",
    "\n",
    "np.random.seed(0)"
   ]
  },
  {
   "cell_type": "code",
   "execution_count": 117,
   "id": "461f6905",
   "metadata": {},
   "outputs": [],
   "source": [
    "def k_means(n_clusters,data,max_iter):\n",
    "    \"\"\"\n",
    "    Renvoie un tuple contenant:\n",
    "    - la liste des centres de chaque cluster\n",
    "    - label contenant les clusters correspondants de chaque points\n",
    "    chaque liste est associé à la valeur du numéro du cluster auquel il correspond \n",
    "    \"\"\"\n",
    "    centroid = []\n",
    "    cluster_not_the_same = True\n",
    "    c = 0\n",
    "    IVC = []\n",
    "      \n",
    "    # Calcul du centre aléatoire    \n",
    "    centroid = [np.random.uniform(data.min(axis=0),data.max(axis=0)) for i in range(n_clusters)]\n",
    "  \n",
    "    # Tant que la condition d'arrêt n'est pas respecté \n",
    "    while(c!=max_iter and cluster_not_the_same):\n",
    "        # Remise à zéro de clusters\n",
    "        cluster = dict((i,[]) for i in range(n_clusters))\n",
    "        c += 1\n",
    "        label = []\n",
    "        \n",
    "        #Assignation des points en fonction de leurs clusters\n",
    "        for point in data:\n",
    "            # Aucun cluster n'est assigné au point\n",
    "            clust = (None,float('inf')) # (numéro du cluster,distance au cluster)\n",
    "            #Choix du cluster\n",
    "            for i in range(n_clusters):\n",
    "                dist = np.linalg.norm(point-centroid[i])\n",
    "                #Si le centre du cluster est plus proche que ceux étudiés avant nous le remplaçons\n",
    "                if dist<clust[1]:\n",
    "                    clust = (i,dist)\n",
    "            \n",
    "            cluster[clust[0]].append(point)\n",
    "            label.append(clust[0])\n",
    "        \n",
    "        # Recalcule les centres\n",
    "        new_centroid = [np.mean(cluster[i],axis=0) for i in range(n_clusters)]\n",
    "        # Calcul de l'intra variance cluster pour itération\n",
    "        IVC.append(intra_cluster_variance(centroid,cluster))\n",
    "        \n",
    "        # On regarde si les centres sont toujours les mêmes\n",
    "        if (np.array_equal(new_centroid,centroid)): \n",
    "            cluster_not_the_same= False\n",
    "        else:\n",
    "            centroid=new_centroid\n",
    "        \n",
    "        \n",
    "    \n",
    "    return ([i for i in range(1,len(IVC)+1)],IVC)"
   ]
  },
  {
   "cell_type": "code",
   "execution_count": 118,
   "id": "12618dbe",
   "metadata": {},
   "outputs": [],
   "source": [
    "def intra_cluster_variance(centroid,cluster):\n",
    "    \"\"\"\n",
    "    Calcul l'intra-cluster-variance\n",
    "    \"\"\"\n",
    "    res = 0\n",
    "    for i in range(len(centroid)):\n",
    "        res += np.sum(np.linalg.norm(cluster[i]-centroid[i],axis=1)**2)\n",
    "    return res"
   ]
  },
  {
   "cell_type": "code",
   "execution_count": 24,
   "id": "421ab5b6",
   "metadata": {},
   "outputs": [],
   "source": [
    "def rand_index(labelTrue,labelPredicted):\n",
    "    \"\"\"\n",
    "    Calcule le taux de représentativité de labelPredicted par rapport à labelTrue\n",
    "    Plus la valeur est proche de 1 et plus les labels sont bien prédits\n",
    "    \"\"\"\n",
    "    cluster = list(set(labelTrue))\n",
    "    clusterTrue = [set() for i in range(len(cluster))]\n",
    "    clusterPredicted = [set() for i in range(len(cluster))]\n",
    "    \n",
    "    for i in range(len(labelTrue)):\n",
    "        for j in range(len(cluster)):\n",
    "            if cluster[j]==labelTrue[i]:\n",
    "                clusterTrue[j].add(i)\n",
    "            if cluster[j]==labelPredicted[i]:\n",
    "                clusterPredicted[j].add(i)\n",
    "        \n",
    "    rand_index = 0\n",
    "    for i in clusterPredicted:\n",
    "        max_similitude = 0\n",
    "        index = 0\n",
    "        for j in range(len(clusterTrue)):\n",
    "            similitude = len(i.intersection(clusterTrue[j]))\n",
    "            if max_similitude < similitude:\n",
    "                max_similitude = similitude\n",
    "                index = j\n",
    "        rand_index+=max_similitude\n",
    "        del(clusterTrue[index])\n",
    "    \n",
    "    return rand_index/len(labelTrue)"
   ]
  },
  {
   "cell_type": "code",
   "execution_count": 25,
   "id": "d5d39200",
   "metadata": {},
   "outputs": [
    {
     "data": {
      "text/plain": [
       "1.0"
      ]
     },
     "execution_count": 25,
     "metadata": {},
     "output_type": "execute_result"
    }
   ],
   "source": [
    "rand_index([0,0,0,1,1,1],[1,1,1,0,0,0])"
   ]
  },
  {
   "cell_type": "markdown",
   "id": "048a4465",
   "metadata": {},
   "source": [
    "## Comparaison des données"
   ]
  },
  {
   "cell_type": "markdown",
   "id": "9db3afb9",
   "metadata": {},
   "source": [
    "### 4D"
   ]
  },
  {
   "cell_type": "code",
   "execution_count": 120,
   "id": "e42967f8",
   "metadata": {},
   "outputs": [],
   "source": [
    "X,Y = k_means(4,X,500)"
   ]
  },
  {
   "cell_type": "code",
   "execution_count": 121,
   "id": "d6a57e13",
   "metadata": {},
   "outputs": [
    {
     "data": {
      "text/plain": [
       "[1, 2, 3, 4, 5, 6]"
      ]
     },
     "execution_count": 121,
     "metadata": {},
     "output_type": "execute_result"
    }
   ],
   "source": [
    "X"
   ]
  },
  {
   "cell_type": "code",
   "execution_count": 122,
   "id": "a7be0ed8",
   "metadata": {},
   "outputs": [
    {
     "data": {
      "text/plain": [
       "[299.93108247272244,\n",
       " 61.80173255221002,\n",
       " 58.06209527531485,\n",
       " 57.4682050138889,\n",
       " 57.29833618832023,\n",
       " 57.265619047619055]"
      ]
     },
     "execution_count": 122,
     "metadata": {},
     "output_type": "execute_result"
    }
   ],
   "source": [
    "Y"
   ]
  },
  {
   "cell_type": "code",
   "execution_count": 123,
   "id": "c0784498",
   "metadata": {},
   "outputs": [
    {
     "data": {
      "text/plain": [
       "Text(0, 0.5, 'IVC')"
      ]
     },
     "execution_count": 123,
     "metadata": {},
     "output_type": "execute_result"
    },
    {
     "data": {
      "image/png": "[encoded data removed]",
      "text/plain": [
       "<Figure size 640x480 with 1 Axes>"
      ]
     },
     "metadata": {},
     "output_type": "display_data"
    }
   ],
   "source": [
    "plt.plot(X,Y)\n",
    "plt.title(\"IVC en fonction du nombre d'itération\")\n",
    "plt.xlabel(\"Nombre d'itération\")\n",
    "plt.ylabel(\"IVC\")"
   ]
  },
  {
   "cell_type": "markdown",
   "id": "02165984",
   "metadata": {},
   "source": [
    "Les clusters trouvés sont les mêmes, de même pour les centres "
   ]
  },
  {
   "cell_type": "markdown",
   "id": "e905a9e8",
   "metadata": {},
   "source": [
    "## K-Modes"
   ]
  },
  {
   "cell_type": "code",
   "execution_count": 124,
   "id": "459c45c9",
   "metadata": {},
   "outputs": [],
   "source": [
    "import pandas as pd\n",
    "import numpy as np"
   ]
  },
  {
   "cell_type": "code",
   "execution_count": 125,
   "id": "fb2c01c6",
   "metadata": {},
   "outputs": [],
   "source": [
    "Df = pd.read_csv(\"Données/bank.csv\",sep=\";\")"
   ]
  },
  {
   "cell_type": "code",
   "execution_count": 126,
   "id": "734530d7",
   "metadata": {},
   "outputs": [],
   "source": [
    "Df = Df[['age','job', 'marital', 'education', 'default', 'housing', \n",
    "'loan','contact','month','poutcome']]\n",
    "\n",
    "\n",
    "# Enlever day of weeks car il n'est pas dans les indexs"
   ]
  },
  {
   "cell_type": "code",
   "execution_count": 127,
   "id": "c5f4d180",
   "metadata": {},
   "outputs": [
    {
     "data": {
      "text/html": [
       "<div>\n",
       "<style scoped>\n",
       "    .dataframe tbody tr th:only-of-type {\n",
       "        vertical-align: middle;\n",
       "    }\n",
       "\n",
       "    .dataframe tbody tr th {\n",
       "        vertical-align: top;\n",
       "    }\n",
       "\n",
       "    .dataframe thead th {\n",
       "        text-align: right;\n",
       "    }\n",
       "</style>\n",
       "<table border=\"1\" class=\"dataframe\">\n",
       "  <thead>\n",
       "    <tr style=\"text-align: right;\">\n",
       "      <th></th>\n",
       "      <th>age</th>\n",
       "      <th>job</th>\n",
       "      <th>marital</th>\n",
       "      <th>education</th>\n",
       "      <th>default</th>\n",
       "      <th>housing</th>\n",
       "      <th>loan</th>\n",
       "      <th>contact</th>\n",
       "      <th>month</th>\n",
       "      <th>poutcome</th>\n",
       "    </tr>\n",
       "  </thead>\n",
       "  <tbody>\n",
       "    <tr>\n",
       "      <th>0</th>\n",
       "      <td>30</td>\n",
       "      <td>unemployed</td>\n",
       "      <td>married</td>\n",
       "      <td>primary</td>\n",
       "      <td>no</td>\n",
       "      <td>no</td>\n",
       "      <td>no</td>\n",
       "      <td>cellular</td>\n",
       "      <td>oct</td>\n",
       "      <td>unknown</td>\n",
       "    </tr>\n",
       "    <tr>\n",
       "      <th>1</th>\n",
       "      <td>33</td>\n",
       "      <td>services</td>\n",
       "      <td>married</td>\n",
       "      <td>secondary</td>\n",
       "      <td>no</td>\n",
       "      <td>yes</td>\n",
       "      <td>yes</td>\n",
       "      <td>cellular</td>\n",
       "      <td>may</td>\n",
       "      <td>failure</td>\n",
       "    </tr>\n",
       "    <tr>\n",
       "      <th>2</th>\n",
       "      <td>35</td>\n",
       "      <td>management</td>\n",
       "      <td>single</td>\n",
       "      <td>tertiary</td>\n",
       "      <td>no</td>\n",
       "      <td>yes</td>\n",
       "      <td>no</td>\n",
       "      <td>cellular</td>\n",
       "      <td>apr</td>\n",
       "      <td>failure</td>\n",
       "    </tr>\n",
       "    <tr>\n",
       "      <th>3</th>\n",
       "      <td>30</td>\n",
       "      <td>management</td>\n",
       "      <td>married</td>\n",
       "      <td>tertiary</td>\n",
       "      <td>no</td>\n",
       "      <td>yes</td>\n",
       "      <td>yes</td>\n",
       "      <td>unknown</td>\n",
       "      <td>jun</td>\n",
       "      <td>unknown</td>\n",
       "    </tr>\n",
       "    <tr>\n",
       "      <th>4</th>\n",
       "      <td>59</td>\n",
       "      <td>blue-collar</td>\n",
       "      <td>married</td>\n",
       "      <td>secondary</td>\n",
       "      <td>no</td>\n",
       "      <td>yes</td>\n",
       "      <td>no</td>\n",
       "      <td>unknown</td>\n",
       "      <td>may</td>\n",
       "      <td>unknown</td>\n",
       "    </tr>\n",
       "  </tbody>\n",
       "</table>\n",
       "</div>"
      ],
      "text/plain": [
       "   age          job  marital  education default housing loan   contact month  \\\n",
       "0   30   unemployed  married    primary      no      no   no  cellular   oct   \n",
       "1   33     services  married  secondary      no     yes  yes  cellular   may   \n",
       "2   35   management   single   tertiary      no     yes   no  cellular   apr   \n",
       "3   30   management  married   tertiary      no     yes  yes   unknown   jun   \n",
       "4   59  blue-collar  married  secondary      no     yes   no   unknown   may   \n",
       "\n",
       "  poutcome  \n",
       "0  unknown  \n",
       "1  failure  \n",
       "2  failure  \n",
       "3  unknown  \n",
       "4  unknown  "
      ]
     },
     "execution_count": 127,
     "metadata": {},
     "output_type": "execute_result"
    }
   ],
   "source": [
    "Df.head()"
   ]
  },
  {
   "cell_type": "code",
   "execution_count": 128,
   "id": "66ab6548",
   "metadata": {},
   "outputs": [
    {
     "data": {
      "text/plain": [
       "age                  30\n",
       "job          unemployed\n",
       "marital         married\n",
       "education       primary\n",
       "default              no\n",
       "housing              no\n",
       "loan                 no\n",
       "contact        cellular\n",
       "month               oct\n",
       "poutcome        unknown\n",
       "Name: 0, dtype: object"
      ]
     },
     "execution_count": 128,
     "metadata": {},
     "output_type": "execute_result"
    }
   ],
   "source": [
    "Df.iloc[0]"
   ]
  },
  {
   "cell_type": "code",
   "execution_count": 129,
   "id": "31bfada3",
   "metadata": {},
   "outputs": [
    {
     "data": {
      "text/html": [
       "<div>\n",
       "<style scoped>\n",
       "    .dataframe tbody tr th:only-of-type {\n",
       "        vertical-align: middle;\n",
       "    }\n",
       "\n",
       "    .dataframe tbody tr th {\n",
       "        vertical-align: top;\n",
       "    }\n",
       "\n",
       "    .dataframe thead th {\n",
       "        text-align: right;\n",
       "    }\n",
       "</style>\n",
       "<table border=\"1\" class=\"dataframe\">\n",
       "  <thead>\n",
       "    <tr style=\"text-align: right;\">\n",
       "      <th></th>\n",
       "      <th>age</th>\n",
       "      <th>job</th>\n",
       "      <th>marital</th>\n",
       "      <th>education</th>\n",
       "      <th>default</th>\n",
       "      <th>housing</th>\n",
       "      <th>loan</th>\n",
       "      <th>contact</th>\n",
       "      <th>month</th>\n",
       "      <th>poutcome</th>\n",
       "    </tr>\n",
       "  </thead>\n",
       "  <tbody>\n",
       "  </tbody>\n",
       "</table>\n",
       "</div>"
      ],
      "text/plain": [
       "Empty DataFrame\n",
       "Columns: [age, job, marital, education, default, housing, loan, contact, month, poutcome]\n",
       "Index: []"
      ]
     },
     "execution_count": 129,
     "metadata": {},
     "output_type": "execute_result"
    }
   ],
   "source": [
    "Df[Df['education'] == np.nan] "
   ]
  },
  {
   "cell_type": "code",
   "execution_count": 130,
   "id": "a48ab29f",
   "metadata": {},
   "outputs": [],
   "source": [
    "def dissimilarity(pointA,pointB):\n",
    "    \"\"\"\n",
    "    Renvoie l'indice de dissimilarité \n",
    "    Plus il est élevé et plus la distance entre les deux points est grande\n",
    "    \"\"\"\n",
    "    \n",
    "    res = sum([1 for k in pointA.index if pointA[k] != pointB[k]])\n",
    "    \n",
    "    return res"
   ]
  },
  {
   "cell_type": "code",
   "execution_count": 131,
   "id": "a90336d9",
   "metadata": {},
   "outputs": [
    {
     "data": {
      "text/plain": [
       "Index(['age', 'job', 'marital', 'education', 'default', 'housing', 'loan',\n",
       "       'contact', 'month', 'poutcome'],\n",
       "      dtype='object')"
      ]
     },
     "execution_count": 131,
     "metadata": {},
     "output_type": "execute_result"
    }
   ],
   "source": [
    "Df.iloc[0].index"
   ]
  },
  {
   "cell_type": "code",
   "execution_count": 132,
   "id": "ce567601",
   "metadata": {},
   "outputs": [
    {
     "data": {
      "text/plain": [
       "(2, 10)"
      ]
     },
     "execution_count": 132,
     "metadata": {},
     "output_type": "execute_result"
    }
   ],
   "source": [
    "Df.iloc[0:2].shape #il y a 2 lignes"
   ]
  },
  {
   "cell_type": "code",
   "execution_count": 133,
   "id": "2f0f2e1f",
   "metadata": {},
   "outputs": [
    {
     "data": {
      "text/plain": [
       "7"
      ]
     },
     "execution_count": 133,
     "metadata": {},
     "output_type": "execute_result"
    }
   ],
   "source": [
    "dissimilarity(Df.iloc[0],Df.iloc[1])"
   ]
  },
  {
   "cell_type": "code",
   "execution_count": 134,
   "id": "8d76c00f",
   "metadata": {},
   "outputs": [],
   "source": [
    "def new_centroid(cluster):\n",
    "    \"\"\"\n",
    "    Renvoie le centre d'un cluster catégorical\n",
    "    \"\"\"\n",
    "    centroid = []\n",
    "    \n",
    "    for k in cluster.columns :\n",
    "        values = dict((i,cluster[cluster[k]==i].shape[0]) for i in set(cluster[k])) \n",
    "        \n",
    "        centroid.append(max(values,key=values.get))\n",
    "        \n",
    "    serie = pd.Series(data=centroid,index=cluster.columns)\n",
    "        \n",
    "    return serie"
   ]
  },
  {
   "cell_type": "code",
   "execution_count": 135,
   "id": "f597765c",
   "metadata": {},
   "outputs": [
    {
     "data": {
      "text/plain": [
       "age                  35\n",
       "job          management\n",
       "marital         married\n",
       "education      tertiary\n",
       "default              no\n",
       "housing             yes\n",
       "loan                 no\n",
       "contact        cellular\n",
       "month               may\n",
       "poutcome        unknown\n",
       "dtype: object"
      ]
     },
     "execution_count": 135,
     "metadata": {},
     "output_type": "execute_result"
    }
   ],
   "source": [
    "new_centroid(Df.iloc[0:10])"
   ]
  },
  {
   "cell_type": "code",
   "execution_count": 136,
   "id": "4c2764c5",
   "metadata": {},
   "outputs": [
    {
     "data": {
      "text/plain": [
       "(1, 2)"
      ]
     },
     "execution_count": 136,
     "metadata": {},
     "output_type": "execute_result"
    }
   ],
   "source": [
    "min([(1,2),(2,0)])"
   ]
  },
  {
   "cell_type": "code",
   "execution_count": 137,
   "id": "f51631ca",
   "metadata": {},
   "outputs": [],
   "source": [
    "cluster = pd.DataFrame(columns=Df.columns)"
   ]
  },
  {
   "cell_type": "code",
   "execution_count": 138,
   "id": "98706364",
   "metadata": {},
   "outputs": [],
   "source": [
    "cluster.loc[len(cluster)] = Df.iloc[0]"
   ]
  },
  {
   "cell_type": "code",
   "execution_count": 139,
   "id": "8fbf1fcd",
   "metadata": {},
   "outputs": [
    {
     "data": {
      "text/html": [
       "<div>\n",
       "<style scoped>\n",
       "    .dataframe tbody tr th:only-of-type {\n",
       "        vertical-align: middle;\n",
       "    }\n",
       "\n",
       "    .dataframe tbody tr th {\n",
       "        vertical-align: top;\n",
       "    }\n",
       "\n",
       "    .dataframe thead th {\n",
       "        text-align: right;\n",
       "    }\n",
       "</style>\n",
       "<table border=\"1\" class=\"dataframe\">\n",
       "  <thead>\n",
       "    <tr style=\"text-align: right;\">\n",
       "      <th></th>\n",
       "      <th>age</th>\n",
       "      <th>job</th>\n",
       "      <th>marital</th>\n",
       "      <th>education</th>\n",
       "      <th>default</th>\n",
       "      <th>housing</th>\n",
       "      <th>loan</th>\n",
       "      <th>contact</th>\n",
       "      <th>month</th>\n",
       "      <th>poutcome</th>\n",
       "    </tr>\n",
       "  </thead>\n",
       "  <tbody>\n",
       "    <tr>\n",
       "      <th>0</th>\n",
       "      <td>30</td>\n",
       "      <td>unemployed</td>\n",
       "      <td>married</td>\n",
       "      <td>primary</td>\n",
       "      <td>no</td>\n",
       "      <td>no</td>\n",
       "      <td>no</td>\n",
       "      <td>cellular</td>\n",
       "      <td>oct</td>\n",
       "      <td>unknown</td>\n",
       "    </tr>\n",
       "  </tbody>\n",
       "</table>\n",
       "</div>"
      ],
      "text/plain": [
       "  age         job  marital education default housing loan   contact month  \\\n",
       "0  30  unemployed  married   primary      no      no   no  cellular   oct   \n",
       "\n",
       "  poutcome  \n",
       "0  unknown  "
      ]
     },
     "execution_count": 139,
     "metadata": {},
     "output_type": "execute_result"
    }
   ],
   "source": [
    "cluster"
   ]
  },
  {
   "cell_type": "code",
   "execution_count": 96,
   "id": "2fb0ce83",
   "metadata": {},
   "outputs": [],
   "source": [
    "def k_modes(n_clusters,data,max_iter):\n",
    "    \n",
    "    #Initialisation des centres choisis aléatoirement\n",
    "    centers= [data.iloc[np.random.randint(0,len(data)-1)] for i in range(n_clusters)] \n",
    "    not_same_as_before = True\n",
    "    i=0\n",
    "     \n",
    "    while (not_same_as_before and i!=max_iter):\n",
    "        \n",
    "        label = []\n",
    "        i+=1\n",
    "        # Remise à zéro de clusters\n",
    "        cluster = dict((i,pd.DataFrame(columns=data.columns)) for i in range(n_clusters))\n",
    "        \n",
    "        for d in range(data.shape[0]):\n",
    "            \n",
    "            minimum_center = min([(dissimilarity(centers[i],data.iloc[d]),i) for i in range(n_clusters)])\n",
    "            \n",
    "            cluster[minimum_center[1]].loc[len(cluster[minimum_center[1]])] = data.iloc[d]\n",
    "            label.append(minimum_center[1])\n",
    "            \n",
    "        # Recalcule les centres\n",
    "        new_center = []\n",
    "        for i in range(n_clusters):\n",
    "            new_center.append(new_centroid(cluster[i]))\n",
    "        \n",
    "        # On regarde si les centres sont toujours les mêmes\n",
    "        if (np.array_equal(new_center,centers)): \n",
    "            not_same_as_before = False\n",
    "        else:\n",
    "            centers=new_center\n",
    "    \n",
    "    return (centers,cluster,label)"
   ]
  },
  {
   "cell_type": "markdown",
   "id": "e9acec93",
   "metadata": {},
   "source": [
    "##### Utilisation avec K=2 et K=3 pour les données"
   ]
  },
  {
   "cell_type": "code",
   "execution_count": 144,
   "id": "2be5aa04",
   "metadata": {},
   "outputs": [],
   "source": [
    "centers2, cluster2, _ = k_modes(2,Df,100)"
   ]
  },
  {
   "cell_type": "code",
   "execution_count": 140,
   "id": "c76fc93e",
   "metadata": {},
   "outputs": [],
   "source": [
    "centers3, cluster3, _ = k_modes(3,Df,100)"
   ]
  },
  {
   "cell_type": "code",
   "execution_count": 159,
   "id": "fe358177",
   "metadata": {},
   "outputs": [],
   "source": [
    "def IVC_KModes(centroid,cluster):\n",
    "    \"\"\"\n",
    "    Calcul l'intra-cluster-variance\n",
    "    \"\"\"\n",
    "    res = 0\n",
    "    for i in range(len(centroid)):\n",
    "        for j in range(len(cluster[i])) :\n",
    "            res += dissimilarity(cluster[i].loc[j],centroid[i])**2\n",
    "    return res"
   ]
  },
  {
   "cell_type": "code",
   "execution_count": 162,
   "id": "a15425f3",
   "metadata": {},
   "outputs": [
    {
     "data": {
      "text/plain": [
       "\"l'IVC de Kmodes avec K=2 est de : 76410\""
      ]
     },
     "execution_count": 162,
     "metadata": {},
     "output_type": "execute_result"
    }
   ],
   "source": [
    "\"l'IVC de Kmodes avec K=2 est de : \" + str(IVC_KModes(centers2,cluster2))"
   ]
  },
  {
   "cell_type": "code",
   "execution_count": 163,
   "id": "558480d8",
   "metadata": {},
   "outputs": [
    {
     "data": {
      "text/plain": [
       "\"l'IVC de Kmodes avec K=3 est de : 67281\""
      ]
     },
     "execution_count": 163,
     "metadata": {},
     "output_type": "execute_result"
    }
   ],
   "source": [
    "\"l'IVC de Kmodes avec K=3 est de : \" + str(IVC_KModes(centers3,cluster3))\n",
    "# Le résultat est donc meilleur avec K=3"
   ]
  }
 ],
 "metadata": {
  "kernelspec": {
   "display_name": "Python 3 (ipykernel)",
   "language": "python",
   "name": "python3"
  },
  "language_info": {
   "codemirror_mode": {
    "name": "ipython",
    "version": 3
   },
   "file_extension": ".py",
   "mimetype": "text/x-python",
   "name": "python",
   "nbconvert_exporter": "python",
   "pygments_lexer": "ipython3",
   "version": "3.9.13"
  }
 },
 "nbformat": 4,
 "nbformat_minor": 5
}
