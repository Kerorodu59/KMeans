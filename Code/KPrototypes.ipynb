{
 "cells": [
  {
   "cell_type": "code",
   "execution_count": 6,
   "id": "a198ffb7",
   "metadata": {},
   "outputs": [],
   "source": [
    "import numbers\n",
    "from sklearn.preprocessing import minmax_scale\n",
    "from numpy.random import randint\n",
    "import numpy as np\n",
    "import pandas as pd"
   ]
  },
  {
   "cell_type": "code",
   "execution_count": 7,
   "id": "590c7b65",
   "metadata": {},
   "outputs": [],
   "source": [
    "Df = pd.read_csv(\"Données/bank.csv\",sep=\";\")"
   ]
  },
  {
   "cell_type": "code",
   "execution_count": 8,
   "id": "a643fc35",
   "metadata": {},
   "outputs": [
    {
     "data": {
      "text/plain": [
       "array(['30', '33', '35', ..., '57', '28', '44'], dtype='<U13')"
      ]
     },
     "execution_count": 8,
     "metadata": {},
     "output_type": "execute_result"
    }
   ],
   "source": [
    "np.array(list(list(Df[i]) for i in Df))[0,:]"
   ]
  },
  {
   "cell_type": "code",
   "execution_count": 10,
   "id": "bec96d45",
   "metadata": {},
   "outputs": [
    {
     "data": {
      "text/plain": [
       "0    30\n",
       "1    33\n",
       "4    59\n",
       "Name: age, dtype: int64"
      ]
     },
     "execution_count": 10,
     "metadata": {},
     "output_type": "execute_result"
    }
   ],
   "source": [
    "Df.iloc[[0,1,4]]['age']"
   ]
  },
  {
   "cell_type": "code",
   "execution_count": 9,
   "id": "a25d5a1f",
   "metadata": {},
   "outputs": [
    {
     "data": {
      "text/plain": [
       "True"
      ]
     },
     "execution_count": 9,
     "metadata": {},
     "output_type": "execute_result"
    }
   ],
   "source": [
    "isinstance(6.8,numbers.Real)"
   ]
  },
  {
   "cell_type": "code",
   "execution_count": 11,
   "id": "72dd763e",
   "metadata": {},
   "outputs": [
    {
     "data": {
      "text/plain": [
       "array([0, 1, 0])"
      ]
     },
     "execution_count": 11,
     "metadata": {},
     "output_type": "execute_result"
    }
   ],
   "source": [
    "np.array([[0,2,0],[2,1,1]]).min(axis=0)"
   ]
  },
  {
   "cell_type": "code",
   "execution_count": 12,
   "id": "93638ac5",
   "metadata": {},
   "outputs": [],
   "source": [
    "def dissimilarity(pointA,pointB):\n",
    "    \"\"\"\n",
    "    Renvoie l'indice de dissimilarité \n",
    "    Plus il est élevé et plus la distance entre les deux points est grande\n",
    "    \"\"\"\n",
    "    \n",
    "    res = sum([1 for k in pointA.index if pointA[k] != pointB[k]])\n",
    "    \n",
    "    return res"
   ]
  },
  {
   "cell_type": "code",
   "execution_count": 57,
   "id": "85f76db6",
   "metadata": {},
   "outputs": [],
   "source": [
    "def new_centroid(cluster,numerical_keys,categorical_keys):\n",
    "    \"\"\"\n",
    "    Renvoie le centre d'un cluster catégorical\n",
    "    \"\"\"\n",
    "    # Calcul des coordonnées numériques du nouveau centre du cluster\n",
    "    centroid = [cluster[k].mean() for k in numerical_keys]\n",
    "     \n",
    "    # Calcul des coordonnées catégoriques du nouveau centre du cluster    \n",
    "    for k in categorical_keys :\n",
    "        values = dict((i,cluster[cluster[k]==i].shape[0]) for i in set(cluster[k])) \n",
    "        # On prend la valeur qui apparait le plus souvent comme centre\n",
    "        centroid.append(max(values,key=values.get))\n",
    "        \n",
    "    serie = pd.DataFrame(data=[centroid],columns=numerical_keys+categorical_keys)\n",
    "        \n",
    "    return serie"
   ]
  },
  {
   "cell_type": "code",
   "execution_count": 58,
   "id": "dddb363c",
   "metadata": {},
   "outputs": [
    {
     "data": {
      "text/html": [
       "<div>\n",
       "<style scoped>\n",
       "    .dataframe tbody tr th:only-of-type {\n",
       "        vertical-align: middle;\n",
       "    }\n",
       "\n",
       "    .dataframe tbody tr th {\n",
       "        vertical-align: top;\n",
       "    }\n",
       "\n",
       "    .dataframe thead th {\n",
       "        text-align: right;\n",
       "    }\n",
       "</style>\n",
       "<table border=\"1\" class=\"dataframe\">\n",
       "  <thead>\n",
       "    <tr style=\"text-align: right;\">\n",
       "      <th></th>\n",
       "      <th>age</th>\n",
       "      <th>balance</th>\n",
       "      <th>day</th>\n",
       "      <th>duration</th>\n",
       "      <th>campaign</th>\n",
       "      <th>pdays</th>\n",
       "      <th>previous</th>\n",
       "      <th>job</th>\n",
       "      <th>marital</th>\n",
       "      <th>education</th>\n",
       "      <th>default</th>\n",
       "      <th>housing</th>\n",
       "      <th>loan</th>\n",
       "      <th>contact</th>\n",
       "      <th>month</th>\n",
       "      <th>poutcome</th>\n",
       "      <th>y</th>\n",
       "    </tr>\n",
       "  </thead>\n",
       "  <tbody>\n",
       "    <tr>\n",
       "      <th>0</th>\n",
       "      <td>38.1</td>\n",
       "      <td>1073.6</td>\n",
       "      <td>12.8</td>\n",
       "      <td>191.2</td>\n",
       "      <td>1.6</td>\n",
       "      <td>131.7</td>\n",
       "      <td>1.2</td>\n",
       "      <td>management</td>\n",
       "      <td>married</td>\n",
       "      <td>tertiary</td>\n",
       "      <td>no</td>\n",
       "      <td>yes</td>\n",
       "      <td>no</td>\n",
       "      <td>cellular</td>\n",
       "      <td>may</td>\n",
       "      <td>unknown</td>\n",
       "      <td>no</td>\n",
       "    </tr>\n",
       "  </tbody>\n",
       "</table>\n",
       "</div>"
      ],
      "text/plain": [
       "    age  balance   day  duration  campaign  pdays  previous         job  \\\n",
       "0  38.1   1073.6  12.8     191.2       1.6  131.7       1.2  management   \n",
       "\n",
       "   marital education default housing loan   contact month poutcome   y  \n",
       "0  married  tertiary      no     yes   no  cellular   may  unknown  no  "
      ]
     },
     "execution_count": 58,
     "metadata": {},
     "output_type": "execute_result"
    }
   ],
   "source": [
    "new_centroid(Df.iloc[0:10],n,c)"
   ]
  },
  {
   "cell_type": "code",
   "execution_count": 68,
   "id": "d6738b52",
   "metadata": {},
   "outputs": [],
   "source": [
    "def KPrototype(K,data,max_iter,gamma):\n",
    "    \"\"\"\n",
    "    \n",
    "    \"\"\"\n",
    "    # Tri des clés ayant des valeurs catégoriques et numériques\n",
    "    number_keys = []\n",
    "    categorical_keys = []\n",
    "    \n",
    "    for k in data :\n",
    "        if isinstance(data.iloc[0][k],numbers.Real) :\n",
    "            number_keys.append(k)\n",
    "        else:\n",
    "            categorical_keys.append(k)\n",
    "    \n",
    "    # Préparation des 2 ensembles de données\n",
    "    categorical = data[categorical_keys]\n",
    "    numerical = pd.DataFrame(minmax_scale(np.array(list(list(data[k]) for k in number_keys))).T,columns=number_keys)\n",
    "    \n",
    "    dataset = pd.concat([numerical,categorical],axis=1)\n",
    "    centers = dataset.iloc[randint(0,data.shape[0],K)] \n",
    "    \n",
    "    i = 0\n",
    "    not_centers_same = True\n",
    "    \n",
    "    while (i!=max_iter and not_centers_same):\n",
    "        label = []\n",
    "        i+=1\n",
    "        \n",
    "        # Remise à zéro des clusters\n",
    "        cluster = dict((i,pd.DataFrame(columns=(number_keys+categorical_keys))) for i in range(K))\n",
    "        \n",
    "        for d in range(data.shape[0]):\n",
    "            value_clusters = []\n",
    "            for i in range(K):\n",
    "                distance = np.linalg.norm(np.array(numerical.iloc[d])-np.array(centers.iloc[i][number_keys]))+gamma*dissimilarity(centers.iloc[i][categorical_keys],categorical.iloc[d])\n",
    "                value_clusters.append((distance,i))\n",
    "            \n",
    "            minimum_center = min(value_clusters)\n",
    "            cluster[minimum_center[1]].loc[len(cluster[minimum_center[1]])] = dataset.iloc[d]\n",
    "            label.append(minimum_center[1])\n",
    "          \n",
    "        \n",
    "        # Recalcule les centres\n",
    "        new_centers= [new_centroid(cluster[i],number_keys,categorical_keys) for i in range(K)]\n",
    "        new_centers = pd.concat(new_centers,axis=0)\n",
    "        \n",
    "        if (np.array_equal(new_centers,centers)): \n",
    "            not_centers_same = False\n",
    "        else:\n",
    "            centers=new_centers\n",
    "        \n",
    "    return (new_centers,cluster,label) "
   ]
  },
  {
   "cell_type": "markdown",
   "id": "a2aa72a6",
   "metadata": {},
   "source": [
    "** Remarque: quand les données ne sont pas normalisé, les clusters ne sont pas équilibré, il y a tout dans un même cluster **\n",
    "- Revoir: choix des points aléatoire au début"
   ]
  },
  {
   "cell_type": "code",
   "execution_count": 69,
   "id": "fb3e37b6",
   "metadata": {
    "scrolled": false
   },
   "outputs": [],
   "source": [
    "ncenters,cluster,label = KPrototype(2,Df,1000,1)"
   ]
  }
 ],
 "metadata": {
  "kernelspec": {
   "display_name": "Python 3 (ipykernel)",
   "language": "python",
   "name": "python3"
  },
  "language_info": {
   "codemirror_mode": {
    "name": "ipython",
    "version": 3
   },
   "file_extension": ".py",
   "mimetype": "text/x-python",
   "name": "python",
   "nbconvert_exporter": "python",
   "pygments_lexer": "ipython3",
   "version": "3.9.13"
  }
 },
 "nbformat": 4,
 "nbformat_minor": 5
}
