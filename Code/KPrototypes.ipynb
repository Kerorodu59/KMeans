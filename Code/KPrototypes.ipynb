{
 "cells": [
  {
   "cell_type": "code",
   "execution_count": 1,
   "id": "a198ffb7",
   "metadata": {},
   "outputs": [],
   "source": [
    "import numbers\n",
    "from sklearn.preprocessing import minmax_scale\n",
    "from numpy.random import *\n",
    "from random import *\n",
    "import numpy as np\n",
    "import pandas as pd\n",
    "from math import *\n",
    "from Metriques import *\n",
    "from Outils import *\n",
    "from statistics import *"
   ]
  },
  {
   "cell_type": "markdown",
   "id": "3cce58d4",
   "metadata": {},
   "source": [
    "## Extraction des données"
   ]
  },
  {
   "cell_type": "markdown",
   "id": "59239ad0",
   "metadata": {},
   "source": [
    "Rand Index correspond à la proportion des paires d'éléments qui sont conjointement groupées ou conjointement séparées.\n",
    "Aide : https://fr.wikipedia.org/wiki/Indice_de_Rand#:~:text=L'indice%20de%20Rand%20est,'accord)%20entre%20deux%20partitions."
   ]
  },
  {
   "cell_type": "markdown",
   "id": "0f3f9e88",
   "metadata": {},
   "source": [
    "## Fonction KPrototypes"
   ]
  },
  {
   "cell_type": "code",
   "execution_count": 2,
   "id": "d1260925",
   "metadata": {},
   "outputs": [],
   "source": [
    "def preparation_donnees(Df):\n",
    "    numerical = []\n",
    "    \n",
    "    for k in Df :\n",
    "        if isinstance(Df.iloc[0][k],numbers.Real) :\n",
    "            numerical.append(k)\n",
    "\n",
    "    for i in range(len(Df)):\n",
    "        if (Df.iloc[i].isna().any()):\n",
    "            for k in numerical :\n",
    "                if pd.isna(Df.iloc[i][k]):\n",
    "                    Df.loc[i,k] = Df[k].mean()\n",
    "    return Df"
   ]
  },
  {
   "cell_type": "code",
   "execution_count": 3,
   "id": "0506d543",
   "metadata": {},
   "outputs": [],
   "source": [
    "def silhouette(cluster,gamma):\n",
    "    numerical = []\n",
    "    categorical = []\n",
    "    \n",
    "    for k in cluster[0] :\n",
    "        if isinstance(cluster[0].iloc[0][k],numbers.Real) :\n",
    "            numerical.append(k)\n",
    "        else:\n",
    "            categorical.append(k)\n",
    "    \n",
    "    sc = 0\n",
    "    for c in range(len(cluster)):\n",
    "        sc_ = 0\n",
    "        for i in range(len(cluster[c])):\n",
    "            ai = sum([gamma_distance(cluster[c].iloc[i],cluster[c].iloc[a],gamma,numerical,categorical) for a in range(len(cluster[c]))])/(len(cluster[c])-1)\n",
    "            bi = []\n",
    "            for oc in range(len(cluster)): \n",
    "                if c!=oc :\n",
    "                    bi.append(sum([gamma_distance(cluster[c].iloc[i],cluster[oc].iloc[b],gamma,numerical,categorical) for b in range(len(cluster[oc]))])/len(cluster[oc])) \n",
    "            \n",
    "            sc_ += (min(bi)-ai)/max(ai,min(bi))\n",
    "        sc += sc_/len(cluster[c])\n",
    "    s = sc/len(cluster) \n",
    "    return s  "
   ]
  },
  {
   "cell_type": "code",
   "execution_count": 4,
   "id": "51f65115",
   "metadata": {},
   "outputs": [],
   "source": [
    "def gamma_distance(pointA,pointB,gamma,numericalKeys,categoricalKeys) :\n",
    "    res = np.linalg.norm(np.array(pointA[numericalKeys])-np.array(pointB[numericalKeys]))+gamma*dissimilarity(pointB[categoricalKeys],pointA[categoricalKeys])\n",
    "    return res"
   ]
  },
  {
   "cell_type": "code",
   "execution_count": 5,
   "id": "96ba5f48",
   "metadata": {},
   "outputs": [],
   "source": [
    "# La fonction n'a pas marché pour KPrototype\n",
    "def Initial_Centers_KProt(K,data,num_keys,cat_keys):\n",
    "    num_array = np.array(data[num_keys])\n",
    "    num_centers = random_centers(K,num_array)\n",
    "    cat_centers = k_modes_center(K,data[cat_keys])\n",
    "    df_num = pd.DataFrame(num_centers,columns=num_keys)\n",
    "    return pd.concat([df_num,cat_centers])"
   ]
  },
  {
   "cell_type": "code",
   "execution_count": 6,
   "id": "d6738b52",
   "metadata": {},
   "outputs": [],
   "source": [
    "def KPrototype(K,data,max_iter,gamma):\n",
    "    \"\"\"\n",
    "    Renvoie les centres, les clusters et les labels des K clusters de data\n",
    "    \"\"\"\n",
    "    # Tri des clés ayant des valeurs catégoriques et numériques\n",
    "    number_keys = []\n",
    "    categorical_keys = []\n",
    "    \n",
    "    for k in data :\n",
    "        if isinstance(data.iloc[0][k],numbers.Real) :\n",
    "            number_keys.append(k)\n",
    "        else:\n",
    "            categorical_keys.append(k)\n",
    "    \n",
    "    # Préparation des 2 ensembles de données\n",
    "    categorical = data[categorical_keys]\n",
    "    numerical = pd.DataFrame(minmax_scale(np.array(list(list(data[k]) for k in number_keys))).T,columns=number_keys)\n",
    "    \n",
    "    dataset = pd.concat([numerical,categorical],axis=1)\n",
    "    centers = dataset.iloc[sample(range(0,data.shape[0]),K)]\n",
    "    #centers = Initial_Centers_KProt(K,data,number_keys,categorical_keys)\n",
    "    \n",
    "    i = 0\n",
    "    not_centers_same = True\n",
    "    \n",
    "    while (i!=max_iter and not_centers_same):\n",
    "        label = []\n",
    "        i+=1\n",
    "        \n",
    "        # Remise à zéro des clusters\n",
    "        cluster = dict((i,pd.DataFrame(columns=(number_keys+categorical_keys))) for i in range(K))\n",
    "        \n",
    "        for d in range(data.shape[0]):\n",
    "            value_clusters = []\n",
    "            for i in range(K):\n",
    "                distance = np.linalg.norm(np.array(numerical.iloc[d])-np.array(centers.iloc[i][number_keys]))+gamma*dissimilarity(centers.iloc[i][categorical_keys],categorical.iloc[d])\n",
    "                value_clusters.append((distance,i))\n",
    "            \n",
    "            minimum_center = min(value_clusters)\n",
    "            cluster[minimum_center[1]].loc[len(cluster[minimum_center[1]])] = dataset.iloc[d]\n",
    "            label.append(minimum_center[1])\n",
    "          \n",
    "        \n",
    "        # Recalcule les centres\n",
    "        new_centers= [new_centroid_KProt(cluster[i],number_keys,categorical_keys) for i in range(K)]\n",
    "        new_centers = pd.concat(new_centers,axis=0)\n",
    "        \n",
    "        if (np.array_equal(new_centers,centers)): \n",
    "            not_centers_same = False\n",
    "        else:\n",
    "            centers=new_centers\n",
    "        \n",
    "    return (new_centers,cluster,label) "
   ]
  },
  {
   "cell_type": "markdown",
   "id": "8172f03e",
   "metadata": {},
   "source": [
    "## Utilisation"
   ]
  },
  {
   "cell_type": "markdown",
   "id": "e6ff126c",
   "metadata": {},
   "source": [
    "### Bank Data"
   ]
  },
  {
   "cell_type": "code",
   "execution_count": 7,
   "id": "898fb15c",
   "metadata": {},
   "outputs": [],
   "source": [
    "Df = pd.read_csv(\"Données/bank.csv\",sep=\";\")"
   ]
  },
  {
   "cell_type": "code",
   "execution_count": 8,
   "id": "3a06c981",
   "metadata": {},
   "outputs": [],
   "source": [
    "X = Df.drop(['y'],axis=1)\n",
    "Y = Df['y']"
   ]
  },
  {
   "cell_type": "code",
   "execution_count": 9,
   "id": "421189d2",
   "metadata": {},
   "outputs": [],
   "source": [
    "X = preparation_donnees(X)"
   ]
  },
  {
   "cell_type": "code",
   "execution_count": 9,
   "id": "36ee3504",
   "metadata": {},
   "outputs": [
    {
     "data": {
      "text/html": [
       "<div>\n",
       "<style scoped>\n",
       "    .dataframe tbody tr th:only-of-type {\n",
       "        vertical-align: middle;\n",
       "    }\n",
       "\n",
       "    .dataframe tbody tr th {\n",
       "        vertical-align: top;\n",
       "    }\n",
       "\n",
       "    .dataframe thead th {\n",
       "        text-align: right;\n",
       "    }\n",
       "</style>\n",
       "<table border=\"1\" class=\"dataframe\">\n",
       "  <thead>\n",
       "    <tr style=\"text-align: right;\">\n",
       "      <th></th>\n",
       "      <th>age</th>\n",
       "      <th>job</th>\n",
       "      <th>marital</th>\n",
       "      <th>education</th>\n",
       "      <th>default</th>\n",
       "      <th>balance</th>\n",
       "      <th>housing</th>\n",
       "      <th>loan</th>\n",
       "      <th>contact</th>\n",
       "      <th>day</th>\n",
       "      <th>month</th>\n",
       "      <th>duration</th>\n",
       "      <th>campaign</th>\n",
       "      <th>pdays</th>\n",
       "      <th>previous</th>\n",
       "      <th>poutcome</th>\n",
       "      <th>y</th>\n",
       "    </tr>\n",
       "  </thead>\n",
       "  <tbody>\n",
       "    <tr>\n",
       "      <th>0</th>\n",
       "      <td>30</td>\n",
       "      <td>unemployed</td>\n",
       "      <td>married</td>\n",
       "      <td>primary</td>\n",
       "      <td>no</td>\n",
       "      <td>1787</td>\n",
       "      <td>no</td>\n",
       "      <td>no</td>\n",
       "      <td>cellular</td>\n",
       "      <td>19</td>\n",
       "      <td>oct</td>\n",
       "      <td>79</td>\n",
       "      <td>1</td>\n",
       "      <td>-1</td>\n",
       "      <td>0</td>\n",
       "      <td>unknown</td>\n",
       "      <td>no</td>\n",
       "    </tr>\n",
       "    <tr>\n",
       "      <th>1</th>\n",
       "      <td>33</td>\n",
       "      <td>services</td>\n",
       "      <td>married</td>\n",
       "      <td>secondary</td>\n",
       "      <td>no</td>\n",
       "      <td>4789</td>\n",
       "      <td>yes</td>\n",
       "      <td>yes</td>\n",
       "      <td>cellular</td>\n",
       "      <td>11</td>\n",
       "      <td>may</td>\n",
       "      <td>220</td>\n",
       "      <td>1</td>\n",
       "      <td>339</td>\n",
       "      <td>4</td>\n",
       "      <td>failure</td>\n",
       "      <td>no</td>\n",
       "    </tr>\n",
       "    <tr>\n",
       "      <th>2</th>\n",
       "      <td>35</td>\n",
       "      <td>management</td>\n",
       "      <td>single</td>\n",
       "      <td>tertiary</td>\n",
       "      <td>no</td>\n",
       "      <td>1350</td>\n",
       "      <td>yes</td>\n",
       "      <td>no</td>\n",
       "      <td>cellular</td>\n",
       "      <td>16</td>\n",
       "      <td>apr</td>\n",
       "      <td>185</td>\n",
       "      <td>1</td>\n",
       "      <td>330</td>\n",
       "      <td>1</td>\n",
       "      <td>failure</td>\n",
       "      <td>no</td>\n",
       "    </tr>\n",
       "    <tr>\n",
       "      <th>3</th>\n",
       "      <td>30</td>\n",
       "      <td>management</td>\n",
       "      <td>married</td>\n",
       "      <td>tertiary</td>\n",
       "      <td>no</td>\n",
       "      <td>1476</td>\n",
       "      <td>yes</td>\n",
       "      <td>yes</td>\n",
       "      <td>unknown</td>\n",
       "      <td>3</td>\n",
       "      <td>jun</td>\n",
       "      <td>199</td>\n",
       "      <td>4</td>\n",
       "      <td>-1</td>\n",
       "      <td>0</td>\n",
       "      <td>unknown</td>\n",
       "      <td>no</td>\n",
       "    </tr>\n",
       "    <tr>\n",
       "      <th>4</th>\n",
       "      <td>59</td>\n",
       "      <td>blue-collar</td>\n",
       "      <td>married</td>\n",
       "      <td>secondary</td>\n",
       "      <td>no</td>\n",
       "      <td>0</td>\n",
       "      <td>yes</td>\n",
       "      <td>no</td>\n",
       "      <td>unknown</td>\n",
       "      <td>5</td>\n",
       "      <td>may</td>\n",
       "      <td>226</td>\n",
       "      <td>1</td>\n",
       "      <td>-1</td>\n",
       "      <td>0</td>\n",
       "      <td>unknown</td>\n",
       "      <td>no</td>\n",
       "    </tr>\n",
       "  </tbody>\n",
       "</table>\n",
       "</div>"
      ],
      "text/plain": [
       "   age          job  marital  education default  balance housing loan  \\\n",
       "0   30   unemployed  married    primary      no     1787      no   no   \n",
       "1   33     services  married  secondary      no     4789     yes  yes   \n",
       "2   35   management   single   tertiary      no     1350     yes   no   \n",
       "3   30   management  married   tertiary      no     1476     yes  yes   \n",
       "4   59  blue-collar  married  secondary      no        0     yes   no   \n",
       "\n",
       "    contact  day month  duration  campaign  pdays  previous poutcome   y  \n",
       "0  cellular   19   oct        79         1     -1         0  unknown  no  \n",
       "1  cellular   11   may       220         1    339         4  failure  no  \n",
       "2  cellular   16   apr       185         1    330         1  failure  no  \n",
       "3   unknown    3   jun       199         4     -1         0  unknown  no  \n",
       "4   unknown    5   may       226         1     -1         0  unknown  no  "
      ]
     },
     "execution_count": 9,
     "metadata": {},
     "output_type": "execute_result"
    }
   ],
   "source": [
    "Df.head()"
   ]
  },
  {
   "cell_type": "code",
   "execution_count": 10,
   "id": "580c5b2a",
   "metadata": {},
   "outputs": [
    {
     "name": "stdout",
     "output_type": "stream",
     "text": [
      "0\n",
      "1\n",
      "2\n",
      "3\n"
     ]
    }
   ],
   "source": [
    "rd = []\n",
    "acc = []\n",
    "adj_rd = []\n",
    "for exp in range(4):\n",
    "    seed(exp)\n",
    "    print(exp)\n",
    "    _,_,label= KPrototype(2,X,10,1)\n",
    "    acc.append(Accuracy(Y,label))\n",
    "    rd.append(rand_index(Y,label))\n",
    "    adj_rd.append(Adjusted_Rand_Index(Y,label))"
   ]
  },
  {
   "cell_type": "code",
   "execution_count": 11,
   "id": "8945c89e",
   "metadata": {},
   "outputs": [
    {
     "data": {
      "text/plain": [
       "(0.011654129536352843, 0.00851973053291839)"
      ]
     },
     "execution_count": 11,
     "metadata": {},
     "output_type": "execute_result"
    }
   ],
   "source": [
    "mean(adj_rd),pstdev(adj_rd)"
   ]
  },
  {
   "cell_type": "code",
   "execution_count": 12,
   "id": "910aaeec",
   "metadata": {},
   "outputs": [
    {
     "data": {
      "text/plain": [
       "(0.5185799601857997, 0.09534578427821283)"
      ]
     },
     "execution_count": 12,
     "metadata": {},
     "output_type": "execute_result"
    }
   ],
   "source": [
    "mean(acc),pstdev(acc)"
   ]
  },
  {
   "cell_type": "code",
   "execution_count": 13,
   "id": "510b7b77",
   "metadata": {
    "scrolled": true
   },
   "outputs": [
    {
     "data": {
      "text/plain": [
       "(0.5187656227673023, 0.010822249037896043)"
      ]
     },
     "execution_count": 13,
     "metadata": {},
     "output_type": "execute_result"
    }
   ],
   "source": [
    "mean(rd),pstdev(rd)"
   ]
  },
  {
   "cell_type": "markdown",
   "id": "862a8007",
   "metadata": {},
   "source": [
    "### Gamma"
   ]
  },
  {
   "cell_type": "markdown",
   "id": "e0b02a50",
   "metadata": {},
   "source": [
    "La fonction Silhouette mettant trop de temps à s'exécuter à cause des données trop nombreuses (45k) , nous nous passerons de ces résultats"
   ]
  },
  {
   "cell_type": "code",
   "execution_count": 10,
   "id": "519bd56e",
   "metadata": {},
   "outputs": [],
   "source": [
    "seed(0)"
   ]
  },
  {
   "cell_type": "code",
   "execution_count": 11,
   "id": "f5a826e1",
   "metadata": {},
   "outputs": [],
   "source": [
    "_,cluster,_ = KPrototype(2,X,10,1.5)"
   ]
  },
  {
   "cell_type": "code",
   "execution_count": 12,
   "id": "5461b371",
   "metadata": {},
   "outputs": [
    {
     "data": {
      "text/plain": [
       "0.1161787714562687"
      ]
     },
     "execution_count": 12,
     "metadata": {},
     "output_type": "execute_result"
    }
   ],
   "source": [
    "silhouette(cluster,1.5)"
   ]
  },
  {
   "cell_type": "code",
   "execution_count": 13,
   "id": "de808bbc",
   "metadata": {},
   "outputs": [],
   "source": [
    "_,cluster,_ = KPrototype(2,X,10,1)"
   ]
  },
  {
   "cell_type": "code",
   "execution_count": 14,
   "id": "605a6728",
   "metadata": {},
   "outputs": [
    {
     "data": {
      "text/plain": [
       "0.1679826123115655"
      ]
     },
     "execution_count": 14,
     "metadata": {},
     "output_type": "execute_result"
    }
   ],
   "source": [
    "silhouette(cluster,1)"
   ]
  },
  {
   "cell_type": "code",
   "execution_count": 15,
   "id": "b9e1d2a7",
   "metadata": {},
   "outputs": [],
   "source": [
    "_,cluster,_ = KPrototype(2,X,10,0.5)"
   ]
  },
  {
   "cell_type": "code",
   "execution_count": 16,
   "id": "9fd98b1a",
   "metadata": {},
   "outputs": [
    {
     "data": {
      "text/plain": [
       "0.18982927093579638"
      ]
     },
     "execution_count": 16,
     "metadata": {},
     "output_type": "execute_result"
    }
   ],
   "source": [
    "silhouette(cluster,0.5)"
   ]
  },
  {
   "cell_type": "markdown",
   "id": "e1e01864",
   "metadata": {},
   "source": [
    "### Credit Approval"
   ]
  },
  {
   "cell_type": "code",
   "execution_count": 7,
   "id": "5283fa7e",
   "metadata": {},
   "outputs": [],
   "source": [
    "Df = pd.read_csv(\"Données/credit-approval.csv\",sep=\",\")"
   ]
  },
  {
   "cell_type": "code",
   "execution_count": 8,
   "id": "e4c2ca05",
   "metadata": {},
   "outputs": [],
   "source": [
    "X = Df.drop(['class'],axis=1)\n",
    "X = preparation_donnees(X)"
   ]
  },
  {
   "cell_type": "code",
   "execution_count": 9,
   "id": "7eca73d8",
   "metadata": {},
   "outputs": [],
   "source": [
    "Y = Df['class']"
   ]
  },
  {
   "cell_type": "code",
   "execution_count": 17,
   "id": "cfcb9c56",
   "metadata": {},
   "outputs": [
    {
     "data": {
      "text/plain": [
       "{'+', '-'}"
      ]
     },
     "execution_count": 17,
     "metadata": {},
     "output_type": "execute_result"
    }
   ],
   "source": [
    "set(Df['class'])"
   ]
  },
  {
   "cell_type": "code",
   "execution_count": 19,
   "id": "1060a456",
   "metadata": {},
   "outputs": [
    {
     "name": "stdout",
     "output_type": "stream",
     "text": [
      "0\n",
      "1\n",
      "2\n"
     ]
    }
   ],
   "source": [
    "rd = []\n",
    "acc = []\n",
    "adj_rd = []\n",
    "for exp in range(3):\n",
    "    seed(exp)\n",
    "    print(exp)\n",
    "    _,_,label= KPrototype(2,X,10,1)\n",
    "    acc.append(Accuracy(Y,label))\n",
    "    rd.append(rand_index(Y,label))\n",
    "    adj_rd.append(Adjusted_Rand_Index(Y,label))"
   ]
  },
  {
   "cell_type": "code",
   "execution_count": 20,
   "id": "40d560e7",
   "metadata": {},
   "outputs": [
    {
     "data": {
      "text/plain": [
       "(0.6221913716581478, 0.08756824519689782)"
      ]
     },
     "execution_count": 20,
     "metadata": {},
     "output_type": "execute_result"
    }
   ],
   "source": [
    "mean(rd),pstdev(rd)"
   ]
  },
  {
   "cell_type": "code",
   "execution_count": 21,
   "id": "ca7a52a5",
   "metadata": {},
   "outputs": [
    {
     "data": {
      "text/plain": [
       "(0.6884057971014492, 0.1608499792228928)"
      ]
     },
     "execution_count": 21,
     "metadata": {},
     "output_type": "execute_result"
    }
   ],
   "source": [
    "mean(acc),pstdev(acc)"
   ]
  },
  {
   "cell_type": "code",
   "execution_count": 22,
   "id": "3972db39",
   "metadata": {},
   "outputs": [
    {
     "data": {
      "text/plain": [
       "(0.2433363694216435, 0.1765612897621576)"
      ]
     },
     "execution_count": 22,
     "metadata": {},
     "output_type": "execute_result"
    }
   ],
   "source": [
    "mean(adj_rd),pstdev(adj_rd)"
   ]
  },
  {
   "cell_type": "markdown",
   "id": "a2aa72a6",
   "metadata": {},
   "source": [
    "** Remarque: quand les données ne sont pas normalisé, les clusters ne sont pas équilibré, il y a tout dans un même cluster **\n",
    "- Revoir: choix des points aléatoire au début"
   ]
  },
  {
   "cell_type": "markdown",
   "id": "a2140399",
   "metadata": {},
   "source": [
    "### Divers gamma"
   ]
  },
  {
   "cell_type": "code",
   "execution_count": 26,
   "id": "2eb2bddf",
   "metadata": {},
   "outputs": [],
   "source": [
    "seed(0)"
   ]
  },
  {
   "cell_type": "code",
   "execution_count": 27,
   "id": "ef0eadb3",
   "metadata": {
    "scrolled": true
   },
   "outputs": [],
   "source": [
    "_,cluster,_ = KPrototype(2,X,10,1.5)"
   ]
  },
  {
   "cell_type": "code",
   "execution_count": 28,
   "id": "8ad44e17",
   "metadata": {},
   "outputs": [
    {
     "data": {
      "text/plain": [
       "0.22697005919140606"
      ]
     },
     "execution_count": 28,
     "metadata": {},
     "output_type": "execute_result"
    }
   ],
   "source": [
    "silhouette(cluster,1.5)"
   ]
  },
  {
   "cell_type": "code",
   "execution_count": 29,
   "id": "a34b3953",
   "metadata": {},
   "outputs": [],
   "source": [
    "_,cluster,_ = KPrototype(2,X,10,1)"
   ]
  },
  {
   "cell_type": "code",
   "execution_count": 30,
   "id": "36322db4",
   "metadata": {},
   "outputs": [
    {
     "data": {
      "text/plain": [
       "0.2201687527840766"
      ]
     },
     "execution_count": 30,
     "metadata": {},
     "output_type": "execute_result"
    }
   ],
   "source": [
    "silhouette(cluster,1)"
   ]
  },
  {
   "cell_type": "code",
   "execution_count": 10,
   "id": "d766b31e",
   "metadata": {},
   "outputs": [],
   "source": [
    "_,cluster,_ = KPrototype(2,X,10,0.5)"
   ]
  },
  {
   "cell_type": "code",
   "execution_count": 11,
   "id": "7afbbfe5",
   "metadata": {},
   "outputs": [
    {
     "data": {
      "text/plain": [
       "0.2222980848530644"
      ]
     },
     "execution_count": 11,
     "metadata": {},
     "output_type": "execute_result"
    }
   ],
   "source": [
    "silhouette(cluster,0.5)"
   ]
  },
  {
   "cell_type": "markdown",
   "id": "639b3756",
   "metadata": {},
   "source": [
    "## Vote"
   ]
  },
  {
   "cell_type": "code",
   "execution_count": 13,
   "id": "d99eabf4",
   "metadata": {},
   "outputs": [],
   "source": [
    "Df = pd.read_csv(\"Données/house-votes-84.csv\",sep=\",\")\n",
    "X = Df.drop(['republican'],axis=1)\n",
    "Y = Df['republican']"
   ]
  },
  {
   "cell_type": "code",
   "execution_count": 14,
   "id": "6c45c623",
   "metadata": {},
   "outputs": [],
   "source": [
    "X = preparation_donnees(X)"
   ]
  },
  {
   "cell_type": "code",
   "execution_count": 15,
   "id": "28bce235",
   "metadata": {},
   "outputs": [],
   "source": [
    "seed(1)"
   ]
  },
  {
   "cell_type": "code",
   "execution_count": 16,
   "id": "c36f688c",
   "metadata": {},
   "outputs": [
    {
     "ename": "UnboundLocalError",
     "evalue": "local variable 'numerical' referenced before assignment",
     "output_type": "error",
     "traceback": [
      "\u001b[1;31m---------------------------------------------------------------------------\u001b[0m",
      "\u001b[1;31mUnboundLocalError\u001b[0m                         Traceback (most recent call last)",
      "\u001b[1;32m~\\AppData\\Local\\Temp\\ipykernel_12944\\2743328790.py\u001b[0m in \u001b[0;36m<module>\u001b[1;34m\u001b[0m\n\u001b[1;32m----> 1\u001b[1;33m \u001b[0m_\u001b[0m\u001b[1;33m,\u001b[0m\u001b[0mcluster\u001b[0m\u001b[1;33m,\u001b[0m\u001b[0m_\u001b[0m \u001b[1;33m=\u001b[0m \u001b[0mKPrototype\u001b[0m\u001b[1;33m(\u001b[0m\u001b[1;36m2\u001b[0m\u001b[1;33m,\u001b[0m\u001b[0mX\u001b[0m\u001b[1;33m,\u001b[0m\u001b[1;36m10\u001b[0m\u001b[1;33m,\u001b[0m\u001b[1;36m1.5\u001b[0m\u001b[1;33m)\u001b[0m\u001b[1;33m\u001b[0m\u001b[1;33m\u001b[0m\u001b[0m\n\u001b[0m",
      "\u001b[1;32m~\\AppData\\Local\\Temp\\ipykernel_12944\\1936065909.py\u001b[0m in \u001b[0;36mKPrototype\u001b[1;34m(K, data, max_iter, gamma)\u001b[0m\n\u001b[0;32m     23\u001b[0m         \u001b[0mnumerical\u001b[0m \u001b[1;33m=\u001b[0m \u001b[0mpd\u001b[0m\u001b[1;33m.\u001b[0m\u001b[0mDataFrame\u001b[0m\u001b[1;33m(\u001b[0m\u001b[0mminmax_scale\u001b[0m\u001b[1;33m(\u001b[0m\u001b[0mnp\u001b[0m\u001b[1;33m.\u001b[0m\u001b[0marray\u001b[0m\u001b[1;33m(\u001b[0m\u001b[0mlist\u001b[0m\u001b[1;33m(\u001b[0m\u001b[0mlist\u001b[0m\u001b[1;33m(\u001b[0m\u001b[0mdata\u001b[0m\u001b[1;33m[\u001b[0m\u001b[0mk\u001b[0m\u001b[1;33m]\u001b[0m\u001b[1;33m)\u001b[0m \u001b[1;32mfor\u001b[0m \u001b[0mk\u001b[0m \u001b[1;32min\u001b[0m \u001b[0mnumber_keys\u001b[0m\u001b[1;33m)\u001b[0m\u001b[1;33m)\u001b[0m\u001b[1;33m)\u001b[0m\u001b[1;33m.\u001b[0m\u001b[0mT\u001b[0m\u001b[1;33m,\u001b[0m\u001b[0mcolumns\u001b[0m\u001b[1;33m=\u001b[0m\u001b[0mnumber_keys\u001b[0m\u001b[1;33m)\u001b[0m\u001b[1;33m\u001b[0m\u001b[1;33m\u001b[0m\u001b[0m\n\u001b[0;32m     24\u001b[0m \u001b[1;33m\u001b[0m\u001b[0m\n\u001b[1;32m---> 25\u001b[1;33m     \u001b[0mdataset\u001b[0m \u001b[1;33m=\u001b[0m \u001b[0mpd\u001b[0m\u001b[1;33m.\u001b[0m\u001b[0mconcat\u001b[0m\u001b[1;33m(\u001b[0m\u001b[1;33m[\u001b[0m\u001b[0mnumerical\u001b[0m\u001b[1;33m,\u001b[0m\u001b[0mcategorical\u001b[0m\u001b[1;33m]\u001b[0m\u001b[1;33m,\u001b[0m\u001b[0maxis\u001b[0m\u001b[1;33m=\u001b[0m\u001b[1;36m1\u001b[0m\u001b[1;33m)\u001b[0m\u001b[1;33m\u001b[0m\u001b[1;33m\u001b[0m\u001b[0m\n\u001b[0m\u001b[0;32m     26\u001b[0m     \u001b[0mcenters\u001b[0m \u001b[1;33m=\u001b[0m \u001b[0mdataset\u001b[0m\u001b[1;33m.\u001b[0m\u001b[0miloc\u001b[0m\u001b[1;33m[\u001b[0m\u001b[0msample\u001b[0m\u001b[1;33m(\u001b[0m\u001b[0mrange\u001b[0m\u001b[1;33m(\u001b[0m\u001b[1;36m0\u001b[0m\u001b[1;33m,\u001b[0m\u001b[0mdata\u001b[0m\u001b[1;33m.\u001b[0m\u001b[0mshape\u001b[0m\u001b[1;33m[\u001b[0m\u001b[1;36m0\u001b[0m\u001b[1;33m]\u001b[0m\u001b[1;33m)\u001b[0m\u001b[1;33m,\u001b[0m\u001b[0mK\u001b[0m\u001b[1;33m)\u001b[0m\u001b[1;33m]\u001b[0m\u001b[1;33m\u001b[0m\u001b[1;33m\u001b[0m\u001b[0m\n\u001b[0;32m     27\u001b[0m     \u001b[1;31m#centers = Initial_Centers_KProt(K,data,number_keys,categorical_keys)\u001b[0m\u001b[1;33m\u001b[0m\u001b[1;33m\u001b[0m\u001b[0m\n",
      "\u001b[1;31mUnboundLocalError\u001b[0m: local variable 'numerical' referenced before assignment"
     ]
    }
   ],
   "source": [
    "_,cluster,_ = KPrototype(2,X,10,1.5)"
   ]
  },
  {
   "cell_type": "markdown",
   "id": "009ba8d0",
   "metadata": {},
   "source": [
    "Notre fonction ne marche pas lorsque le tableau est rempli uniquement soit d'attributs Catégoriels ou numériques car KModes ou KMeans sont spécialiser pour ces derniers"
   ]
  }
 ],
 "metadata": {
  "kernelspec": {
   "display_name": "Python 3 (ipykernel)",
   "language": "python",
   "name": "python3"
  },
  "language_info": {
   "codemirror_mode": {
    "name": "ipython",
    "version": 3
   },
   "file_extension": ".py",
   "mimetype": "text/x-python",
   "name": "python",
   "nbconvert_exporter": "python",
   "pygments_lexer": "ipython3",
   "version": "3.9.13"
  }
 },
 "nbformat": 4,
 "nbformat_minor": 5
}
